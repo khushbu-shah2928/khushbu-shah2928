{
  "cells": [
    {
      "cell_type": "markdown",
      "metadata": {
        "id": "view-in-github",
        "colab_type": "text"
      },
      "source": [
        "<a href=\"https://colab.research.google.com/github/khushbu-shah2928/khushbu-shah2928/blob/main/Prediction_of_fraudlent_transactions.ipynb\" target=\"_parent\"><img src=\"https://colab.research.google.com/assets/colab-badge.svg\" alt=\"Open In Colab\"/></a>"
      ]
    },
    {
      "cell_type": "markdown",
      "id": "9ffc14e7",
      "metadata": {
        "papermill": {
          "duration": 0.009657,
          "end_time": "2024-05-19T10:38:22.766723",
          "exception": false,
          "start_time": "2024-05-19T10:38:22.757066",
          "status": "completed"
        },
        "tags": [],
        "id": "9ffc14e7"
      },
      "source": [
        "\n",
        " <b/><font color='purple'><center> Prediction of Fraudlent Transactions </center></font>"
      ]
    },
    {
      "cell_type": "markdown",
      "id": "09dec537",
      "metadata": {
        "papermill": {
          "duration": 0.009069,
          "end_time": "2024-05-19T10:38:22.785295",
          "exception": false,
          "start_time": "2024-05-19T10:38:22.776226",
          "status": "completed"
        },
        "tags": [],
        "id": "09dec537"
      },
      "source": [
        "### <b><font color='purple'> Business Context:</b> </font>\n",
        "\n",
        "This case requires trainees to develop a model for predicting fraudulent transactions for a\n",
        "financial company and use insights from the model to develop an actionable plan. Data for the\n",
        "case is available in CSV format having 6362620 rows and 10 columns.\n",
        "\n",
        "\n",
        "Following usual model development procedures, the model would be estimated on the\n",
        "calibration data and tested on the validation data. This case requires both statistical analysis and\n",
        "creativity/judgment.\n",
        "\n",
        "### <b><font color='purple'> Task required to be done: </font></b>\n",
        "The task is to execute the process for proactive detection of fraud while answering following\n",
        "questions.\n",
        "1. Data cleaning including missing values, outliers and multi-collinearity.\n",
        "2. Describe your fraud detection model in elaboration.\n",
        "3. How did you select variables to be included in the model?\n",
        "4. Demonstrate the performance of the model by using best set of tools.\n",
        "5. What are the key factors that predict fraudulent customer?\n",
        "6. Do these factors make sense? If yes, How? If not, How not?\n",
        "7. What kind of prevention should be adopted while company update its infrastructure?\n",
        "8. Assuming these actions have been implemented, how would you determine if they work?"
      ]
    },
    {
      "cell_type": "markdown",
      "id": "82c6bd4a",
      "metadata": {
        "papermill": {
          "duration": 0.009131,
          "end_time": "2024-05-19T10:38:22.803732",
          "exception": false,
          "start_time": "2024-05-19T10:38:22.794601",
          "status": "completed"
        },
        "tags": [],
        "id": "82c6bd4a"
      },
      "source": [
        "## <b/> Importing Libraries"
      ]
    },
    {
      "cell_type": "code",
      "execution_count": null,
      "id": "3672cebf",
      "metadata": {
        "execution": {
          "iopub.execute_input": "2024-05-19T10:38:22.825107Z",
          "iopub.status.busy": "2024-05-19T10:38:22.824643Z",
          "iopub.status.idle": "2024-05-19T10:38:25.748282Z",
          "shell.execute_reply": "2024-05-19T10:38:25.747334Z"
        },
        "papermill": {
          "duration": 2.936842,
          "end_time": "2024-05-19T10:38:25.750915",
          "exception": false,
          "start_time": "2024-05-19T10:38:22.814073",
          "status": "completed"
        },
        "tags": [],
        "id": "3672cebf"
      },
      "outputs": [],
      "source": [
        "import pandas as pd\n",
        "import numpy as np\n",
        "import seaborn as sns\n",
        "import matplotlib.pyplot as plt\n",
        "plt.rcParams['figure.figsize'] = [10, 8]\n",
        "\n",
        "import warnings\n",
        "warnings.filterwarnings('ignore')\n",
        "\n",
        "from sklearn.preprocessing import LabelEncoder\n",
        "from sklearn.preprocessing import StandardScaler\n",
        "from sklearn.model_selection import train_test_split\n",
        "import sklearn.metrics as metrics\n",
        "from sklearn.metrics import classification_report, confusion_matrix, ConfusionMatrixDisplay\n",
        "\n",
        "from sklearn.ensemble import RandomForestClassifier\n",
        "from sklearn.tree import DecisionTreeClassifier\n",
        "from xgboost import XGBClassifier\n",
        "\n",
        "import itertools\n",
        "from collections import Counter\n",
        "\n",
        "from statsmodels.stats.outliers_influence import variance_inflation_factor"
      ]
    },
    {
      "cell_type": "markdown",
      "id": "c1a75e01",
      "metadata": {
        "papermill": {
          "duration": 0.009138,
          "end_time": "2024-05-19T10:38:25.769553",
          "exception": false,
          "start_time": "2024-05-19T10:38:25.760415",
          "status": "completed"
        },
        "tags": [],
        "id": "c1a75e01"
      },
      "source": [
        "## <b/> Loading the Dataset"
      ]
    },
    {
      "cell_type": "code",
      "execution_count": null,
      "id": "bebeadfa",
      "metadata": {
        "execution": {
          "iopub.execute_input": "2024-05-19T10:38:25.790922Z",
          "iopub.status.busy": "2024-05-19T10:38:25.789790Z",
          "iopub.status.idle": "2024-05-19T10:38:45.055463Z",
          "shell.execute_reply": "2024-05-19T10:38:45.054234Z"
        },
        "papermill": {
          "duration": 19.278814,
          "end_time": "2024-05-19T10:38:45.057990",
          "exception": false,
          "start_time": "2024-05-19T10:38:25.779176",
          "status": "completed"
        },
        "scrolled": true,
        "tags": [],
        "id": "bebeadfa",
        "outputId": "c05c1a2f-b270-4386-e159-dae0cd4a084a"
      },
      "outputs": [
        {
          "data": {
            "text/html": [
              "<div>\n",
              "<style scoped>\n",
              "    .dataframe tbody tr th:only-of-type {\n",
              "        vertical-align: middle;\n",
              "    }\n",
              "\n",
              "    .dataframe tbody tr th {\n",
              "        vertical-align: top;\n",
              "    }\n",
              "\n",
              "    .dataframe thead th {\n",
              "        text-align: right;\n",
              "    }\n",
              "</style>\n",
              "<table border=\"1\" class=\"dataframe\">\n",
              "  <thead>\n",
              "    <tr style=\"text-align: right;\">\n",
              "      <th></th>\n",
              "      <th>step</th>\n",
              "      <th>type</th>\n",
              "      <th>amount</th>\n",
              "      <th>nameOrig</th>\n",
              "      <th>oldbalanceOrg</th>\n",
              "      <th>newbalanceOrig</th>\n",
              "      <th>nameDest</th>\n",
              "      <th>oldbalanceDest</th>\n",
              "      <th>newbalanceDest</th>\n",
              "      <th>isFraud</th>\n",
              "      <th>isFlaggedFraud</th>\n",
              "    </tr>\n",
              "  </thead>\n",
              "  <tbody>\n",
              "    <tr>\n",
              "      <th>0</th>\n",
              "      <td>1</td>\n",
              "      <td>PAYMENT</td>\n",
              "      <td>9839.64</td>\n",
              "      <td>C1231006815</td>\n",
              "      <td>170136.0</td>\n",
              "      <td>160296.36</td>\n",
              "      <td>M1979787155</td>\n",
              "      <td>0.0</td>\n",
              "      <td>0.0</td>\n",
              "      <td>0</td>\n",
              "      <td>0</td>\n",
              "    </tr>\n",
              "    <tr>\n",
              "      <th>1</th>\n",
              "      <td>1</td>\n",
              "      <td>PAYMENT</td>\n",
              "      <td>1864.28</td>\n",
              "      <td>C1666544295</td>\n",
              "      <td>21249.0</td>\n",
              "      <td>19384.72</td>\n",
              "      <td>M2044282225</td>\n",
              "      <td>0.0</td>\n",
              "      <td>0.0</td>\n",
              "      <td>0</td>\n",
              "      <td>0</td>\n",
              "    </tr>\n",
              "    <tr>\n",
              "      <th>2</th>\n",
              "      <td>1</td>\n",
              "      <td>TRANSFER</td>\n",
              "      <td>181.00</td>\n",
              "      <td>C1305486145</td>\n",
              "      <td>181.0</td>\n",
              "      <td>0.00</td>\n",
              "      <td>C553264065</td>\n",
              "      <td>0.0</td>\n",
              "      <td>0.0</td>\n",
              "      <td>1</td>\n",
              "      <td>0</td>\n",
              "    </tr>\n",
              "    <tr>\n",
              "      <th>3</th>\n",
              "      <td>1</td>\n",
              "      <td>CASH_OUT</td>\n",
              "      <td>181.00</td>\n",
              "      <td>C840083671</td>\n",
              "      <td>181.0</td>\n",
              "      <td>0.00</td>\n",
              "      <td>C38997010</td>\n",
              "      <td>21182.0</td>\n",
              "      <td>0.0</td>\n",
              "      <td>1</td>\n",
              "      <td>0</td>\n",
              "    </tr>\n",
              "    <tr>\n",
              "      <th>4</th>\n",
              "      <td>1</td>\n",
              "      <td>PAYMENT</td>\n",
              "      <td>11668.14</td>\n",
              "      <td>C2048537720</td>\n",
              "      <td>41554.0</td>\n",
              "      <td>29885.86</td>\n",
              "      <td>M1230701703</td>\n",
              "      <td>0.0</td>\n",
              "      <td>0.0</td>\n",
              "      <td>0</td>\n",
              "      <td>0</td>\n",
              "    </tr>\n",
              "  </tbody>\n",
              "</table>\n",
              "</div>"
            ],
            "text/plain": [
              "   step      type    amount     nameOrig  oldbalanceOrg  newbalanceOrig  \\\n",
              "0     1   PAYMENT   9839.64  C1231006815       170136.0       160296.36   \n",
              "1     1   PAYMENT   1864.28  C1666544295        21249.0        19384.72   \n",
              "2     1  TRANSFER    181.00  C1305486145          181.0            0.00   \n",
              "3     1  CASH_OUT    181.00   C840083671          181.0            0.00   \n",
              "4     1   PAYMENT  11668.14  C2048537720        41554.0        29885.86   \n",
              "\n",
              "      nameDest  oldbalanceDest  newbalanceDest  isFraud  isFlaggedFraud  \n",
              "0  M1979787155             0.0             0.0        0               0  \n",
              "1  M2044282225             0.0             0.0        0               0  \n",
              "2   C553264065             0.0             0.0        1               0  \n",
              "3    C38997010         21182.0             0.0        1               0  \n",
              "4  M1230701703             0.0             0.0        0               0  "
            ]
          },
          "execution_count": 2,
          "metadata": {},
          "output_type": "execute_result"
        }
      ],
      "source": [
        "df = pd.read_csv(\"C:/Users/Khushbu Shah/Desktop/Accredian Internship/Fraud.csv\")\n",
        "df.head()"
      ]
    },
    {
      "cell_type": "markdown",
      "id": "f4e9c393",
      "metadata": {
        "papermill": {
          "duration": 0.010165,
          "end_time": "2024-05-19T10:38:45.078137",
          "exception": false,
          "start_time": "2024-05-19T10:38:45.067972",
          "status": "completed"
        },
        "tags": [],
        "id": "f4e9c393"
      },
      "source": [
        "## <b/> Data Preprocessing"
      ]
    },
    {
      "cell_type": "code",
      "execution_count": null,
      "id": "7a5e1b2b",
      "metadata": {
        "execution": {
          "iopub.execute_input": "2024-05-19T10:38:45.099932Z",
          "iopub.status.busy": "2024-05-19T10:38:45.099529Z",
          "iopub.status.idle": "2024-05-19T10:38:45.106705Z",
          "shell.execute_reply": "2024-05-19T10:38:45.105551Z"
        },
        "papermill": {
          "duration": 0.020297,
          "end_time": "2024-05-19T10:38:45.108920",
          "exception": false,
          "start_time": "2024-05-19T10:38:45.088623",
          "status": "completed"
        },
        "tags": [],
        "id": "7a5e1b2b",
        "outputId": "113e3958-9130-42b1-f4f5-7bb372a0f8ac"
      },
      "outputs": [
        {
          "data": {
            "text/plain": [
              "(6362620, 11)"
            ]
          },
          "execution_count": 3,
          "metadata": {},
          "output_type": "execute_result"
        }
      ],
      "source": [
        "df.shape"
      ]
    },
    {
      "cell_type": "code",
      "execution_count": null,
      "id": "d49eea71",
      "metadata": {
        "execution": {
          "iopub.execute_input": "2024-05-19T10:38:45.130713Z",
          "iopub.status.busy": "2024-05-19T10:38:45.129919Z",
          "iopub.status.idle": "2024-05-19T10:38:46.100343Z",
          "shell.execute_reply": "2024-05-19T10:38:46.099322Z"
        },
        "papermill": {
          "duration": 0.983793,
          "end_time": "2024-05-19T10:38:46.102643",
          "exception": false,
          "start_time": "2024-05-19T10:38:45.118850",
          "status": "completed"
        },
        "tags": [],
        "id": "d49eea71",
        "outputId": "7b83ed70-5607-4190-d12b-0e90108bb720"
      },
      "outputs": [
        {
          "data": {
            "text/plain": [
              "step              0\n",
              "type              0\n",
              "amount            0\n",
              "nameOrig          0\n",
              "oldbalanceOrg     0\n",
              "newbalanceOrig    0\n",
              "nameDest          0\n",
              "oldbalanceDest    0\n",
              "newbalanceDest    0\n",
              "isFraud           0\n",
              "isFlaggedFraud    0\n",
              "dtype: int64"
            ]
          },
          "execution_count": 4,
          "metadata": {},
          "output_type": "execute_result"
        }
      ],
      "source": [
        "df.isnull().sum()"
      ]
    },
    {
      "cell_type": "code",
      "execution_count": null,
      "id": "c801f84b",
      "metadata": {
        "execution": {
          "iopub.execute_input": "2024-05-19T10:38:46.125753Z",
          "iopub.status.busy": "2024-05-19T10:38:46.124589Z",
          "iopub.status.idle": "2024-05-19T10:38:46.146097Z",
          "shell.execute_reply": "2024-05-19T10:38:46.145194Z"
        },
        "papermill": {
          "duration": 0.035799,
          "end_time": "2024-05-19T10:38:46.148666",
          "exception": false,
          "start_time": "2024-05-19T10:38:46.112867",
          "status": "completed"
        },
        "tags": [],
        "id": "c801f84b",
        "outputId": "542e8721-1872-4510-ea19-7466651fae2d"
      },
      "outputs": [
        {
          "name": "stdout",
          "output_type": "stream",
          "text": [
            "<class 'pandas.core.frame.DataFrame'>\n",
            "RangeIndex: 6362620 entries, 0 to 6362619\n",
            "Data columns (total 11 columns):\n",
            " #   Column          Dtype  \n",
            "---  ------          -----  \n",
            " 0   step            int64  \n",
            " 1   type            object \n",
            " 2   amount          float64\n",
            " 3   nameOrig        object \n",
            " 4   oldbalanceOrg   float64\n",
            " 5   newbalanceOrig  float64\n",
            " 6   nameDest        object \n",
            " 7   oldbalanceDest  float64\n",
            " 8   newbalanceDest  float64\n",
            " 9   isFraud         int64  \n",
            " 10  isFlaggedFraud  int64  \n",
            "dtypes: float64(5), int64(3), object(3)\n",
            "memory usage: 534.0+ MB\n"
          ]
        }
      ],
      "source": [
        "df.info()"
      ]
    },
    {
      "cell_type": "code",
      "execution_count": null,
      "id": "1643686b",
      "metadata": {
        "execution": {
          "iopub.execute_input": "2024-05-19T10:38:46.171406Z",
          "iopub.status.busy": "2024-05-19T10:38:46.170657Z",
          "iopub.status.idle": "2024-05-19T10:38:59.742703Z",
          "shell.execute_reply": "2024-05-19T10:38:59.741520Z"
        },
        "papermill": {
          "duration": 13.585976,
          "end_time": "2024-05-19T10:38:59.745201",
          "exception": false,
          "start_time": "2024-05-19T10:38:46.159225",
          "status": "completed"
        },
        "tags": [],
        "id": "1643686b",
        "outputId": "d396a2b2-1c1c-48c5-e98b-d64f49cba6f6"
      },
      "outputs": [
        {
          "data": {
            "text/plain": [
              "0"
            ]
          },
          "execution_count": 6,
          "metadata": {},
          "output_type": "execute_result"
        }
      ],
      "source": [
        "df.duplicated().sum()"
      ]
    },
    {
      "cell_type": "code",
      "execution_count": null,
      "id": "ed41f640",
      "metadata": {
        "id": "ed41f640",
        "outputId": "6d27d335-8131-4fb1-e1a8-523b7f0dfb02"
      },
      "outputs": [
        {
          "data": {
            "text/html": [
              "<div>\n",
              "<style scoped>\n",
              "    .dataframe tbody tr th:only-of-type {\n",
              "        vertical-align: middle;\n",
              "    }\n",
              "\n",
              "    .dataframe tbody tr th {\n",
              "        vertical-align: top;\n",
              "    }\n",
              "\n",
              "    .dataframe thead th {\n",
              "        text-align: right;\n",
              "    }\n",
              "</style>\n",
              "<table border=\"1\" class=\"dataframe\">\n",
              "  <thead>\n",
              "    <tr style=\"text-align: right;\">\n",
              "      <th></th>\n",
              "      <th>step</th>\n",
              "      <th>amount</th>\n",
              "      <th>oldbalanceOrg</th>\n",
              "      <th>newbalanceOrig</th>\n",
              "      <th>oldbalanceDest</th>\n",
              "      <th>newbalanceDest</th>\n",
              "      <th>isFraud</th>\n",
              "      <th>isFlaggedFraud</th>\n",
              "    </tr>\n",
              "  </thead>\n",
              "  <tbody>\n",
              "    <tr>\n",
              "      <th>count</th>\n",
              "      <td>6.362620e+06</td>\n",
              "      <td>6.362620e+06</td>\n",
              "      <td>6.362620e+06</td>\n",
              "      <td>6.362620e+06</td>\n",
              "      <td>6.362620e+06</td>\n",
              "      <td>6.362620e+06</td>\n",
              "      <td>6.362620e+06</td>\n",
              "      <td>6.362620e+06</td>\n",
              "    </tr>\n",
              "    <tr>\n",
              "      <th>mean</th>\n",
              "      <td>2.433972e+02</td>\n",
              "      <td>1.798619e+05</td>\n",
              "      <td>8.338831e+05</td>\n",
              "      <td>8.551137e+05</td>\n",
              "      <td>1.100702e+06</td>\n",
              "      <td>1.224996e+06</td>\n",
              "      <td>1.290820e-03</td>\n",
              "      <td>2.514687e-06</td>\n",
              "    </tr>\n",
              "    <tr>\n",
              "      <th>std</th>\n",
              "      <td>1.423320e+02</td>\n",
              "      <td>6.038582e+05</td>\n",
              "      <td>2.888243e+06</td>\n",
              "      <td>2.924049e+06</td>\n",
              "      <td>3.399180e+06</td>\n",
              "      <td>3.674129e+06</td>\n",
              "      <td>3.590480e-02</td>\n",
              "      <td>1.585775e-03</td>\n",
              "    </tr>\n",
              "    <tr>\n",
              "      <th>min</th>\n",
              "      <td>1.000000e+00</td>\n",
              "      <td>0.000000e+00</td>\n",
              "      <td>0.000000e+00</td>\n",
              "      <td>0.000000e+00</td>\n",
              "      <td>0.000000e+00</td>\n",
              "      <td>0.000000e+00</td>\n",
              "      <td>0.000000e+00</td>\n",
              "      <td>0.000000e+00</td>\n",
              "    </tr>\n",
              "    <tr>\n",
              "      <th>25%</th>\n",
              "      <td>1.560000e+02</td>\n",
              "      <td>1.338957e+04</td>\n",
              "      <td>0.000000e+00</td>\n",
              "      <td>0.000000e+00</td>\n",
              "      <td>0.000000e+00</td>\n",
              "      <td>0.000000e+00</td>\n",
              "      <td>0.000000e+00</td>\n",
              "      <td>0.000000e+00</td>\n",
              "    </tr>\n",
              "    <tr>\n",
              "      <th>50%</th>\n",
              "      <td>2.390000e+02</td>\n",
              "      <td>7.487194e+04</td>\n",
              "      <td>1.420800e+04</td>\n",
              "      <td>0.000000e+00</td>\n",
              "      <td>1.327057e+05</td>\n",
              "      <td>2.146614e+05</td>\n",
              "      <td>0.000000e+00</td>\n",
              "      <td>0.000000e+00</td>\n",
              "    </tr>\n",
              "    <tr>\n",
              "      <th>75%</th>\n",
              "      <td>3.350000e+02</td>\n",
              "      <td>2.087215e+05</td>\n",
              "      <td>1.073152e+05</td>\n",
              "      <td>1.442584e+05</td>\n",
              "      <td>9.430367e+05</td>\n",
              "      <td>1.111909e+06</td>\n",
              "      <td>0.000000e+00</td>\n",
              "      <td>0.000000e+00</td>\n",
              "    </tr>\n",
              "    <tr>\n",
              "      <th>max</th>\n",
              "      <td>7.430000e+02</td>\n",
              "      <td>9.244552e+07</td>\n",
              "      <td>5.958504e+07</td>\n",
              "      <td>4.958504e+07</td>\n",
              "      <td>3.560159e+08</td>\n",
              "      <td>3.561793e+08</td>\n",
              "      <td>1.000000e+00</td>\n",
              "      <td>1.000000e+00</td>\n",
              "    </tr>\n",
              "  </tbody>\n",
              "</table>\n",
              "</div>"
            ],
            "text/plain": [
              "               step        amount  oldbalanceOrg  newbalanceOrig  \\\n",
              "count  6.362620e+06  6.362620e+06   6.362620e+06    6.362620e+06   \n",
              "mean   2.433972e+02  1.798619e+05   8.338831e+05    8.551137e+05   \n",
              "std    1.423320e+02  6.038582e+05   2.888243e+06    2.924049e+06   \n",
              "min    1.000000e+00  0.000000e+00   0.000000e+00    0.000000e+00   \n",
              "25%    1.560000e+02  1.338957e+04   0.000000e+00    0.000000e+00   \n",
              "50%    2.390000e+02  7.487194e+04   1.420800e+04    0.000000e+00   \n",
              "75%    3.350000e+02  2.087215e+05   1.073152e+05    1.442584e+05   \n",
              "max    7.430000e+02  9.244552e+07   5.958504e+07    4.958504e+07   \n",
              "\n",
              "       oldbalanceDest  newbalanceDest       isFraud  isFlaggedFraud  \n",
              "count    6.362620e+06    6.362620e+06  6.362620e+06    6.362620e+06  \n",
              "mean     1.100702e+06    1.224996e+06  1.290820e-03    2.514687e-06  \n",
              "std      3.399180e+06    3.674129e+06  3.590480e-02    1.585775e-03  \n",
              "min      0.000000e+00    0.000000e+00  0.000000e+00    0.000000e+00  \n",
              "25%      0.000000e+00    0.000000e+00  0.000000e+00    0.000000e+00  \n",
              "50%      1.327057e+05    2.146614e+05  0.000000e+00    0.000000e+00  \n",
              "75%      9.430367e+05    1.111909e+06  0.000000e+00    0.000000e+00  \n",
              "max      3.560159e+08    3.561793e+08  1.000000e+00    1.000000e+00  "
            ]
          },
          "execution_count": 7,
          "metadata": {},
          "output_type": "execute_result"
        }
      ],
      "source": [
        "df.describe()\n"
      ]
    },
    {
      "cell_type": "code",
      "execution_count": null,
      "id": "d128d6e3",
      "metadata": {
        "id": "d128d6e3",
        "outputId": "0f075d0b-cb0c-49e1-ef50-295868e0b7fe"
      },
      "outputs": [
        {
          "data": {
            "text/plain": [
              "False"
            ]
          },
          "execution_count": 8,
          "metadata": {},
          "output_type": "execute_result"
        }
      ],
      "source": [
        "# Check for null values\n",
        "df.isnull().values.any()"
      ]
    },
    {
      "cell_type": "code",
      "execution_count": null,
      "id": "32ad6336",
      "metadata": {
        "id": "32ad6336",
        "outputId": "a01863a1-44b1-4532-f3a1-7d7e5e7735f3"
      },
      "outputs": [
        {
          "data": {
            "text/html": [
              "<div>\n",
              "<style scoped>\n",
              "    .dataframe tbody tr th:only-of-type {\n",
              "        vertical-align: middle;\n",
              "    }\n",
              "\n",
              "    .dataframe tbody tr th {\n",
              "        vertical-align: top;\n",
              "    }\n",
              "\n",
              "    .dataframe thead th {\n",
              "        text-align: right;\n",
              "    }\n",
              "</style>\n",
              "<table border=\"1\" class=\"dataframe\">\n",
              "  <thead>\n",
              "    <tr style=\"text-align: right;\">\n",
              "      <th></th>\n",
              "      <th>step</th>\n",
              "      <th>type</th>\n",
              "      <th>amount</th>\n",
              "      <th>nameOrig</th>\n",
              "      <th>oldbalanceOrg</th>\n",
              "      <th>newbalanceOrig</th>\n",
              "      <th>nameDest</th>\n",
              "      <th>oldbalanceDest</th>\n",
              "      <th>newbalanceDest</th>\n",
              "      <th>isFraud</th>\n",
              "      <th>isFlaggedFraud</th>\n",
              "    </tr>\n",
              "  </thead>\n",
              "  <tbody>\n",
              "    <tr>\n",
              "      <th>0</th>\n",
              "      <td>1</td>\n",
              "      <td>PAYMENT</td>\n",
              "      <td>9839.64</td>\n",
              "      <td>C1231006815</td>\n",
              "      <td>170136.0</td>\n",
              "      <td>160296.36</td>\n",
              "      <td>M1979787155</td>\n",
              "      <td>0.0</td>\n",
              "      <td>0.0</td>\n",
              "      <td>0</td>\n",
              "      <td>0</td>\n",
              "    </tr>\n",
              "    <tr>\n",
              "      <th>1</th>\n",
              "      <td>1</td>\n",
              "      <td>PAYMENT</td>\n",
              "      <td>1864.28</td>\n",
              "      <td>C1666544295</td>\n",
              "      <td>21249.0</td>\n",
              "      <td>19384.72</td>\n",
              "      <td>M2044282225</td>\n",
              "      <td>0.0</td>\n",
              "      <td>0.0</td>\n",
              "      <td>0</td>\n",
              "      <td>0</td>\n",
              "    </tr>\n",
              "    <tr>\n",
              "      <th>2</th>\n",
              "      <td>1</td>\n",
              "      <td>TRANSFER</td>\n",
              "      <td>181.00</td>\n",
              "      <td>C1305486145</td>\n",
              "      <td>181.0</td>\n",
              "      <td>0.00</td>\n",
              "      <td>C553264065</td>\n",
              "      <td>0.0</td>\n",
              "      <td>0.0</td>\n",
              "      <td>1</td>\n",
              "      <td>0</td>\n",
              "    </tr>\n",
              "    <tr>\n",
              "      <th>3</th>\n",
              "      <td>1</td>\n",
              "      <td>CASH_OUT</td>\n",
              "      <td>181.00</td>\n",
              "      <td>C840083671</td>\n",
              "      <td>181.0</td>\n",
              "      <td>0.00</td>\n",
              "      <td>C38997010</td>\n",
              "      <td>21182.0</td>\n",
              "      <td>0.0</td>\n",
              "      <td>1</td>\n",
              "      <td>0</td>\n",
              "    </tr>\n",
              "    <tr>\n",
              "      <th>4</th>\n",
              "      <td>1</td>\n",
              "      <td>PAYMENT</td>\n",
              "      <td>11668.14</td>\n",
              "      <td>C2048537720</td>\n",
              "      <td>41554.0</td>\n",
              "      <td>29885.86</td>\n",
              "      <td>M1230701703</td>\n",
              "      <td>0.0</td>\n",
              "      <td>0.0</td>\n",
              "      <td>0</td>\n",
              "      <td>0</td>\n",
              "    </tr>\n",
              "  </tbody>\n",
              "</table>\n",
              "</div>"
            ],
            "text/plain": [
              "   step      type    amount     nameOrig  oldbalanceOrg  newbalanceOrig  \\\n",
              "0     1   PAYMENT   9839.64  C1231006815       170136.0       160296.36   \n",
              "1     1   PAYMENT   1864.28  C1666544295        21249.0        19384.72   \n",
              "2     1  TRANSFER    181.00  C1305486145          181.0            0.00   \n",
              "3     1  CASH_OUT    181.00   C840083671          181.0            0.00   \n",
              "4     1   PAYMENT  11668.14  C2048537720        41554.0        29885.86   \n",
              "\n",
              "      nameDest  oldbalanceDest  newbalanceDest  isFraud  isFlaggedFraud  \n",
              "0  M1979787155             0.0             0.0        0               0  \n",
              "1  M2044282225             0.0             0.0        0               0  \n",
              "2   C553264065             0.0             0.0        1               0  \n",
              "3    C38997010         21182.0             0.0        1               0  \n",
              "4  M1230701703             0.0             0.0        0               0  "
            ]
          },
          "execution_count": 9,
          "metadata": {},
          "output_type": "execute_result"
        }
      ],
      "source": [
        "# Load the dataset\n",
        "df2 = pd.read_csv(\"C:/Users/Khushbu Shah/Desktop/Accredian Internship/Fraud.csv\")\n",
        "df2.head()\n",
        "\n"
      ]
    },
    {
      "cell_type": "markdown",
      "id": "b6a5bd52",
      "metadata": {
        "id": "b6a5bd52"
      },
      "source": [
        "# Check For Outliers"
      ]
    },
    {
      "cell_type": "code",
      "execution_count": null,
      "id": "48bec396",
      "metadata": {
        "id": "48bec396",
        "outputId": "382a3995-f76f-48d5-eb3a-77d1a1e4ed53"
      },
      "outputs": [
        {
          "name": "stdout",
          "output_type": "stream",
          "text": [
            "step\n"
          ]
        },
        {
          "data": {
            "image/png": "[encoded data removed]",
            "text/plain": [
              "<Figure size 1000x800 with 1 Axes>"
            ]
          },
          "metadata": {},
          "output_type": "display_data"
        },
        {
          "name": "stdout",
          "output_type": "stream",
          "text": [
            "amount\n"
          ]
        },
        {
          "data": {
            "image/png": "[encoded data removed]",
            "text/plain": [
              "<Figure size 1000x800 with 1 Axes>"
            ]
          },
          "metadata": {},
          "output_type": "display_data"
        },
        {
          "name": "stdout",
          "output_type": "stream",
          "text": [
            "oldbalanceOrg\n"
          ]
        },
        {
          "data": {
            "image/png": "[encoded data removed]",
            "text/plain": [
              "<Figure size 1000x800 with 1 Axes>"
            ]
          },
          "metadata": {},
          "output_type": "display_data"
        },
        {
          "name": "stdout",
          "output_type": "stream",
          "text": [
            "newbalanceOrig\n"
          ]
        },
        {
          "data": {
            "image/png": "[encoded data removed]",
            "text/plain": [
              "<Figure size 1000x800 with 1 Axes>"
            ]
          },
          "metadata": {},
          "output_type": "display_data"
        },
        {
          "name": "stdout",
          "output_type": "stream",
          "text": [
            "oldbalanceDest\n"
          ]
        },
        {
          "data": {
            "image/png": "[encoded data removed]",
            "text/plain": [
              "<Figure size 1000x800 with 1 Axes>"
            ]
          },
          "metadata": {},
          "output_type": "display_data"
        },
        {
          "name": "stdout",
          "output_type": "stream",
          "text": [
            "newbalanceDest\n"
          ]
        },
        {
          "data": {
            "image/png": "[encoded data removed]",
            "text/plain": [
              "<Figure size 1000x800 with 1 Axes>"
            ]
          },
          "metadata": {},
          "output_type": "display_data"
        },
        {
          "name": "stdout",
          "output_type": "stream",
          "text": [
            "isFraud\n"
          ]
        },
        {
          "data": {
            "image/png": "[encoded data removed]",
            "text/plain": [
              "<Figure size 1000x800 with 1 Axes>"
            ]
          },
          "metadata": {},
          "output_type": "display_data"
        },
        {
          "name": "stdout",
          "output_type": "stream",
          "text": [
            "isFlaggedFraud\n"
          ]
        },
        {
          "data": {
            "image/png": "[encoded data removed]",
            "text/plain": [
              "<Figure size 1000x800 with 1 Axes>"
            ]
          },
          "metadata": {},
          "output_type": "display_data"
        }
      ],
      "source": [
        "#checking for outliers using box plot\n",
        "for col in df.columns:\n",
        "    if df[col].dtype == 'float64' or df[col].dtype == 'int64':\n",
        "        print(col)\n",
        "        df.boxplot(column = col)\n",
        "        plt.show()\n",
        "    else:\n",
        "        pass"
      ]
    },
    {
      "cell_type": "code",
      "execution_count": null,
      "id": "46026d66",
      "metadata": {
        "id": "46026d66",
        "outputId": "09c83cb4-e8b1-495c-b7e1-64b19e75e481"
      },
      "outputs": [
        {
          "name": "stdout",
          "output_type": "stream",
          "text": [
            "Number of outliers in column 'step': 102688\n",
            "Number of outliers in column 'amount': 338078\n",
            "Number of outliers in column 'oldbalanceOrg': 1112507\n",
            "Number of outliers in column 'newbalanceOrig': 1053391\n",
            "Number of outliers in column 'oldbalanceDest': 786135\n",
            "Number of outliers in column 'newbalanceDest': 738527\n"
          ]
        }
      ],
      "source": [
        "#checking for outliers\n",
        "numerical_columns = ['step','amount', 'oldbalanceOrg', 'newbalanceOrig', 'oldbalanceDest', 'newbalanceDest']\n",
        "\n",
        "# Initialize a dictionary to store the number of outliers for each column\n",
        "outliers_count = {}\n",
        "\n",
        "for col in numerical_columns:\n",
        "    # Calculate the IQR for each numerical column\n",
        "    Q1 = df[col].quantile(0.25)\n",
        "    Q3 = df[col].quantile(0.75)\n",
        "    IQR = Q3 - Q1\n",
        "\n",
        "     # Identify potential outliers using the IQR method\n",
        "    outliers = ((df[col] < (Q1 - 1.5 * IQR)) |\n",
        "                (df[col] > (Q3 + 1.5 * IQR)))\n",
        "\n",
        "    # Count the number of outliers for the current column\n",
        "    num_outliers = outliers.sum()\n",
        "\n",
        "    # Store the count in the dictionary\n",
        "    outliers_count[col] = num_outliers\n",
        "\n",
        "# Display the number of outliers for each column\n",
        "for col, count in outliers_count.items():\n",
        "    print(f\"Number of outliers in column '{col}': {count}\")"
      ]
    },
    {
      "cell_type": "markdown",
      "id": "6755a745",
      "metadata": {
        "id": "6755a745"
      },
      "source": [
        "### Visualizing Fraud versus No Fraud Events\n",
        "### From the below countplot we can see 6354407 occurences of No Fraud events and 8213 number of fraud events"
      ]
    },
    {
      "cell_type": "code",
      "execution_count": null,
      "id": "fa4087a3",
      "metadata": {
        "id": "fa4087a3",
        "outputId": "c24529b9-4833-4967-cb71-d6c55796295d"
      },
      "outputs": [
        {
          "data": {
            "text/plain": [
              "0    6354407\n",
              "1       8213\n",
              "Name: isFraud, dtype: int64"
            ]
          },
          "execution_count": 12,
          "metadata": {},
          "output_type": "execute_result"
        }
      ],
      "source": [
        "sns.countplot(df[\"isFraud\"])\n",
        "df.isFraud.value_counts()"
      ]
    },
    {
      "cell_type": "markdown",
      "id": "183bf067",
      "metadata": {
        "id": "183bf067"
      },
      "source": [
        "### Visualizing isFlaggedFraud Events\n"
      ]
    },
    {
      "cell_type": "code",
      "execution_count": null,
      "id": "92545bbc",
      "metadata": {
        "id": "92545bbc",
        "outputId": "afe09af2-e4e9-4708-e1f4-b5056a8a8503"
      },
      "outputs": [
        {
          "data": {
            "text/plain": [
              "0    6362604\n",
              "1         16\n",
              "Name: isFlaggedFraud, dtype: int64"
            ]
          },
          "execution_count": 13,
          "metadata": {},
          "output_type": "execute_result"
        }
      ],
      "source": [
        "sns.countplot(df[\"isFlaggedFraud\"])\n",
        "df.isFlaggedFraud.value_counts()"
      ]
    },
    {
      "cell_type": "markdown",
      "id": "39f3c13f",
      "metadata": {
        "papermill": {
          "duration": 0.010006,
          "end_time": "2024-05-19T10:38:59.766007",
          "exception": false,
          "start_time": "2024-05-19T10:38:59.756001",
          "status": "completed"
        },
        "tags": [],
        "id": "39f3c13f"
      },
      "source": [
        "## <b/> Exploratory Data Analysis"
      ]
    },
    {
      "cell_type": "markdown",
      "id": "80d85a2d",
      "metadata": {
        "id": "80d85a2d"
      },
      "source": [
        "### Analysing Fraud variables occurences\n",
        "### The transaction is fraud when Fraud value = 1\n",
        "### The transaction is legit i.e. fraud when Fraud value = 0"
      ]
    },
    {
      "cell_type": "code",
      "execution_count": null,
      "id": "0ef8f039",
      "metadata": {
        "execution": {
          "iopub.execute_input": "2024-05-19T10:38:59.788339Z",
          "iopub.status.busy": "2024-05-19T10:38:59.787914Z",
          "iopub.status.idle": "2024-05-19T10:39:00.489402Z",
          "shell.execute_reply": "2024-05-19T10:39:00.488019Z"
        },
        "papermill": {
          "duration": 0.715439,
          "end_time": "2024-05-19T10:39:00.491678",
          "exception": false,
          "start_time": "2024-05-19T10:38:59.776239",
          "status": "completed"
        },
        "tags": [],
        "id": "0ef8f039",
        "outputId": "ee0dd5e2-afc2-4f90-d444-b30de76a97b0"
      },
      "outputs": [
        {
          "name": "stdout",
          "output_type": "stream",
          "text": [
            "Number of Fraud transactions:  8213\n",
            "Number of Legit transactions:  6354407\n",
            "Percentage of Legit transactions: 99.8709 %\n",
            "Percentage of Fraud transactions: 0.1291 %\n"
          ]
        }
      ],
      "source": [
        "# Number of fraud and legitimate transactions\n",
        "fraud = len(df[df['isFraud'] == 1])\n",
        "legit = len(df[df['isFraud'] == 0])\n",
        "legit_percent = (legit / (fraud + legit)) * 100\n",
        "fraud_percent = (fraud / (fraud + legit)) * 100\n",
        "\n",
        "print(\"Number of Fraud transactions: \", fraud)\n",
        "print(\"Number of Legit transactions: \", legit)\n",
        "print(\"Percentage of Legit transactions: {:.4f} %\".format(legit_percent))\n",
        "print(\"Percentage of Fraud transactions: {:.4f} %\".format(fraud_percent))"
      ]
    },
    {
      "cell_type": "markdown",
      "id": "317b53d8",
      "metadata": {
        "papermill": {
          "duration": 0.010167,
          "end_time": "2024-05-19T10:39:00.512352",
          "exception": false,
          "start_time": "2024-05-19T10:39:00.502185",
          "status": "completed"
        },
        "tags": [],
        "id": "317b53d8"
      },
      "source": [
        "- These results prove that this is a highly unbalanced data as Number of Fraud transactions is 8213 and Number of Legit transactions= 6354407. So Random Forest, Decision Trees, XGBoost are good methods for the highly unbalanced data."
      ]
    },
    {
      "cell_type": "code",
      "execution_count": null,
      "id": "2e76df55",
      "metadata": {
        "execution": {
          "iopub.execute_input": "2024-05-19T10:39:00.535797Z",
          "iopub.status.busy": "2024-05-19T10:39:00.534731Z",
          "iopub.status.idle": "2024-05-19T10:39:03.160845Z",
          "shell.execute_reply": "2024-05-19T10:39:03.159687Z"
        },
        "papermill": {
          "duration": 2.640231,
          "end_time": "2024-05-19T10:39:03.163113",
          "exception": false,
          "start_time": "2024-05-19T10:39:00.522882",
          "status": "completed"
        },
        "tags": [],
        "id": "2e76df55",
        "outputId": "91c0c3e5-96a6-4ce3-dcc4-0802a223cbde"
      },
      "outputs": [
        {
          "data": {
            "text/html": [
              "<div>\n",
              "<style scoped>\n",
              "    .dataframe tbody tr th:only-of-type {\n",
              "        vertical-align: middle;\n",
              "    }\n",
              "\n",
              "    .dataframe tbody tr th {\n",
              "        vertical-align: top;\n",
              "    }\n",
              "\n",
              "    .dataframe thead th {\n",
              "        text-align: right;\n",
              "    }\n",
              "</style>\n",
              "<table border=\"1\" class=\"dataframe\">\n",
              "  <thead>\n",
              "    <tr style=\"text-align: right;\">\n",
              "      <th></th>\n",
              "      <th>step</th>\n",
              "      <th>type</th>\n",
              "      <th>amount</th>\n",
              "      <th>nameOrig</th>\n",
              "      <th>oldbalanceOrg</th>\n",
              "      <th>newbalanceOrig</th>\n",
              "      <th>nameDest</th>\n",
              "      <th>oldbalanceDest</th>\n",
              "      <th>newbalanceDest</th>\n",
              "      <th>isFraud</th>\n",
              "      <th>isFlaggedFraud</th>\n",
              "    </tr>\n",
              "  </thead>\n",
              "  <tbody>\n",
              "    <tr>\n",
              "      <th>0</th>\n",
              "      <td>1</td>\n",
              "      <td>PAYMENT</td>\n",
              "      <td>9839.64</td>\n",
              "      <td>C1231006815</td>\n",
              "      <td>170136.0</td>\n",
              "      <td>160296.36</td>\n",
              "      <td>M1979787155</td>\n",
              "      <td>0.0</td>\n",
              "      <td>0.0</td>\n",
              "      <td>0</td>\n",
              "      <td>0</td>\n",
              "    </tr>\n",
              "    <tr>\n",
              "      <th>1</th>\n",
              "      <td>1</td>\n",
              "      <td>PAYMENT</td>\n",
              "      <td>1864.28</td>\n",
              "      <td>C1666544295</td>\n",
              "      <td>21249.0</td>\n",
              "      <td>19384.72</td>\n",
              "      <td>M2044282225</td>\n",
              "      <td>0.0</td>\n",
              "      <td>0.0</td>\n",
              "      <td>0</td>\n",
              "      <td>0</td>\n",
              "    </tr>\n",
              "    <tr>\n",
              "      <th>4</th>\n",
              "      <td>1</td>\n",
              "      <td>PAYMENT</td>\n",
              "      <td>11668.14</td>\n",
              "      <td>C2048537720</td>\n",
              "      <td>41554.0</td>\n",
              "      <td>29885.86</td>\n",
              "      <td>M1230701703</td>\n",
              "      <td>0.0</td>\n",
              "      <td>0.0</td>\n",
              "      <td>0</td>\n",
              "      <td>0</td>\n",
              "    </tr>\n",
              "    <tr>\n",
              "      <th>5</th>\n",
              "      <td>1</td>\n",
              "      <td>PAYMENT</td>\n",
              "      <td>7817.71</td>\n",
              "      <td>C90045638</td>\n",
              "      <td>53860.0</td>\n",
              "      <td>46042.29</td>\n",
              "      <td>M573487274</td>\n",
              "      <td>0.0</td>\n",
              "      <td>0.0</td>\n",
              "      <td>0</td>\n",
              "      <td>0</td>\n",
              "    </tr>\n",
              "    <tr>\n",
              "      <th>6</th>\n",
              "      <td>1</td>\n",
              "      <td>PAYMENT</td>\n",
              "      <td>7107.77</td>\n",
              "      <td>C154988899</td>\n",
              "      <td>183195.0</td>\n",
              "      <td>176087.23</td>\n",
              "      <td>M408069119</td>\n",
              "      <td>0.0</td>\n",
              "      <td>0.0</td>\n",
              "      <td>0</td>\n",
              "      <td>0</td>\n",
              "    </tr>\n",
              "  </tbody>\n",
              "</table>\n",
              "</div>"
            ],
            "text/plain": [
              "   step     type    amount     nameOrig  oldbalanceOrg  newbalanceOrig  \\\n",
              "0     1  PAYMENT   9839.64  C1231006815       170136.0       160296.36   \n",
              "1     1  PAYMENT   1864.28  C1666544295        21249.0        19384.72   \n",
              "4     1  PAYMENT  11668.14  C2048537720        41554.0        29885.86   \n",
              "5     1  PAYMENT   7817.71    C90045638        53860.0        46042.29   \n",
              "6     1  PAYMENT   7107.77   C154988899       183195.0       176087.23   \n",
              "\n",
              "      nameDest  oldbalanceDest  newbalanceDest  isFraud  isFlaggedFraud  \n",
              "0  M1979787155             0.0             0.0        0               0  \n",
              "1  M2044282225             0.0             0.0        0               0  \n",
              "4  M1230701703             0.0             0.0        0               0  \n",
              "5   M573487274             0.0             0.0        0               0  \n",
              "6   M408069119             0.0             0.0        0               0  "
            ]
          },
          "execution_count": 15,
          "metadata": {},
          "output_type": "execute_result"
        }
      ],
      "source": [
        "# Visualzing the Merchants Data\n",
        "X = df[df['nameDest'].str.contains('M')]\n",
        "X.head()"
      ]
    },
    {
      "cell_type": "markdown",
      "id": "52b7bd86",
      "metadata": {
        "papermill": {
          "duration": 0.010296,
          "end_time": "2024-05-19T10:39:03.184230",
          "exception": false,
          "start_time": "2024-05-19T10:39:03.173934",
          "status": "completed"
        },
        "tags": [],
        "id": "52b7bd86"
      },
      "source": [
        "- There is no information for oldbalanceDest and newbalanceDest for the Merchants."
      ]
    },
    {
      "cell_type": "code",
      "execution_count": null,
      "id": "6c3cf039",
      "metadata": {
        "execution": {
          "iopub.execute_input": "2024-05-19T10:39:03.207147Z",
          "iopub.status.busy": "2024-05-19T10:39:03.206719Z",
          "iopub.status.idle": "2024-05-19T10:39:04.642081Z",
          "shell.execute_reply": "2024-05-19T10:39:04.640871Z"
        },
        "papermill": {
          "duration": 1.44979,
          "end_time": "2024-05-19T10:39:04.644640",
          "exception": false,
          "start_time": "2024-05-19T10:39:03.194850",
          "status": "completed"
        },
        "tags": [],
        "id": "6c3cf039",
        "outputId": "a91702d9-7e5b-468f-e48b-d3f9e9da19a8"
      },
      "outputs": [
        {
          "data": {
            "text/html": [
              "<div>\n",
              "<style scoped>\n",
              "    .dataframe tbody tr th:only-of-type {\n",
              "        vertical-align: middle;\n",
              "    }\n",
              "\n",
              "    .dataframe tbody tr th {\n",
              "        vertical-align: top;\n",
              "    }\n",
              "\n",
              "    .dataframe thead th {\n",
              "        text-align: right;\n",
              "    }\n",
              "</style>\n",
              "<table border=\"1\" class=\"dataframe\">\n",
              "  <thead>\n",
              "    <tr style=\"text-align: right;\">\n",
              "      <th></th>\n",
              "      <th>step</th>\n",
              "      <th>amount</th>\n",
              "      <th>oldbalanceOrg</th>\n",
              "      <th>newbalanceOrig</th>\n",
              "      <th>oldbalanceDest</th>\n",
              "      <th>newbalanceDest</th>\n",
              "      <th>isFraud</th>\n",
              "      <th>isFlaggedFraud</th>\n",
              "    </tr>\n",
              "  </thead>\n",
              "  <tbody>\n",
              "    <tr>\n",
              "      <th>step</th>\n",
              "      <td>1.000000</td>\n",
              "      <td>0.022373</td>\n",
              "      <td>-0.010058</td>\n",
              "      <td>-0.010299</td>\n",
              "      <td>0.027665</td>\n",
              "      <td>0.025888</td>\n",
              "      <td>0.031578</td>\n",
              "      <td>0.003277</td>\n",
              "    </tr>\n",
              "    <tr>\n",
              "      <th>amount</th>\n",
              "      <td>0.022373</td>\n",
              "      <td>1.000000</td>\n",
              "      <td>-0.002762</td>\n",
              "      <td>-0.007861</td>\n",
              "      <td>0.294137</td>\n",
              "      <td>0.459304</td>\n",
              "      <td>0.076688</td>\n",
              "      <td>0.012295</td>\n",
              "    </tr>\n",
              "    <tr>\n",
              "      <th>oldbalanceOrg</th>\n",
              "      <td>-0.010058</td>\n",
              "      <td>-0.002762</td>\n",
              "      <td>1.000000</td>\n",
              "      <td>0.998803</td>\n",
              "      <td>0.066243</td>\n",
              "      <td>0.042029</td>\n",
              "      <td>0.010154</td>\n",
              "      <td>0.003835</td>\n",
              "    </tr>\n",
              "    <tr>\n",
              "      <th>newbalanceOrig</th>\n",
              "      <td>-0.010299</td>\n",
              "      <td>-0.007861</td>\n",
              "      <td>0.998803</td>\n",
              "      <td>1.000000</td>\n",
              "      <td>0.067812</td>\n",
              "      <td>0.041837</td>\n",
              "      <td>-0.008148</td>\n",
              "      <td>0.003776</td>\n",
              "    </tr>\n",
              "    <tr>\n",
              "      <th>oldbalanceDest</th>\n",
              "      <td>0.027665</td>\n",
              "      <td>0.294137</td>\n",
              "      <td>0.066243</td>\n",
              "      <td>0.067812</td>\n",
              "      <td>1.000000</td>\n",
              "      <td>0.976569</td>\n",
              "      <td>-0.005885</td>\n",
              "      <td>-0.000513</td>\n",
              "    </tr>\n",
              "    <tr>\n",
              "      <th>newbalanceDest</th>\n",
              "      <td>0.025888</td>\n",
              "      <td>0.459304</td>\n",
              "      <td>0.042029</td>\n",
              "      <td>0.041837</td>\n",
              "      <td>0.976569</td>\n",
              "      <td>1.000000</td>\n",
              "      <td>0.000535</td>\n",
              "      <td>-0.000529</td>\n",
              "    </tr>\n",
              "    <tr>\n",
              "      <th>isFraud</th>\n",
              "      <td>0.031578</td>\n",
              "      <td>0.076688</td>\n",
              "      <td>0.010154</td>\n",
              "      <td>-0.008148</td>\n",
              "      <td>-0.005885</td>\n",
              "      <td>0.000535</td>\n",
              "      <td>1.000000</td>\n",
              "      <td>0.044109</td>\n",
              "    </tr>\n",
              "    <tr>\n",
              "      <th>isFlaggedFraud</th>\n",
              "      <td>0.003277</td>\n",
              "      <td>0.012295</td>\n",
              "      <td>0.003835</td>\n",
              "      <td>0.003776</td>\n",
              "      <td>-0.000513</td>\n",
              "      <td>-0.000529</td>\n",
              "      <td>0.044109</td>\n",
              "      <td>1.000000</td>\n",
              "    </tr>\n",
              "  </tbody>\n",
              "</table>\n",
              "</div>"
            ],
            "text/plain": [
              "                    step    amount  oldbalanceOrg  newbalanceOrig  \\\n",
              "step            1.000000  0.022373      -0.010058       -0.010299   \n",
              "amount          0.022373  1.000000      -0.002762       -0.007861   \n",
              "oldbalanceOrg  -0.010058 -0.002762       1.000000        0.998803   \n",
              "newbalanceOrig -0.010299 -0.007861       0.998803        1.000000   \n",
              "oldbalanceDest  0.027665  0.294137       0.066243        0.067812   \n",
              "newbalanceDest  0.025888  0.459304       0.042029        0.041837   \n",
              "isFraud         0.031578  0.076688       0.010154       -0.008148   \n",
              "isFlaggedFraud  0.003277  0.012295       0.003835        0.003776   \n",
              "\n",
              "                oldbalanceDest  newbalanceDest   isFraud  isFlaggedFraud  \n",
              "step                  0.027665        0.025888  0.031578        0.003277  \n",
              "amount                0.294137        0.459304  0.076688        0.012295  \n",
              "oldbalanceOrg         0.066243        0.042029  0.010154        0.003835  \n",
              "newbalanceOrig        0.067812        0.041837 -0.008148        0.003776  \n",
              "oldbalanceDest        1.000000        0.976569 -0.005885       -0.000513  \n",
              "newbalanceDest        0.976569        1.000000  0.000535       -0.000529  \n",
              "isFraud              -0.005885        0.000535  1.000000        0.044109  \n",
              "isFlaggedFraud       -0.000513       -0.000529  0.044109        1.000000  "
            ]
          },
          "execution_count": 16,
          "metadata": {},
          "output_type": "execute_result"
        }
      ],
      "source": [
        "# checking correlation\n",
        "corr = df.corr(numeric_only=True)\n",
        "corr"
      ]
    },
    {
      "cell_type": "code",
      "execution_count": null,
      "id": "10b626a0",
      "metadata": {
        "execution": {
          "iopub.execute_input": "2024-05-19T10:39:04.668481Z",
          "iopub.status.busy": "2024-05-19T10:39:04.668068Z",
          "iopub.status.idle": "2024-05-19T10:39:05.270410Z",
          "shell.execute_reply": "2024-05-19T10:39:05.269341Z"
        },
        "papermill": {
          "duration": 0.616872,
          "end_time": "2024-05-19T10:39:05.272764",
          "exception": false,
          "start_time": "2024-05-19T10:39:04.655892",
          "status": "completed"
        },
        "tags": [],
        "id": "10b626a0",
        "outputId": "85d1534b-4b31-4295-f797-7c441c57390b"
      },
      "outputs": [
        {
          "data": {
            "text/plain": [
              "<Axes: >"
            ]
          },
          "execution_count": 17,
          "metadata": {},
          "output_type": "execute_result"
        }
      ],
      "source": [
        "# plotting correlation using heatmap\n",
        "sns.heatmap(data=corr, annot=True)"
      ]
    },
    {
      "cell_type": "code",
      "execution_count": null,
      "id": "d243aeea",
      "metadata": {
        "execution": {
          "iopub.execute_input": "2024-05-19T10:39:05.300043Z",
          "iopub.status.busy": "2024-05-19T10:39:05.299591Z",
          "iopub.status.idle": "2024-05-19T10:39:05.676115Z",
          "shell.execute_reply": "2024-05-19T10:39:05.675079Z"
        },
        "papermill": {
          "duration": 0.393064,
          "end_time": "2024-05-19T10:39:05.678323",
          "exception": false,
          "start_time": "2024-05-19T10:39:05.285259",
          "status": "completed"
        },
        "tags": [],
        "id": "d243aeea",
        "outputId": "30d47481-aae0-41d8-b4c6-3af05a8a126b"
      },
      "outputs": [
        {
          "data": {
            "image/png": "[encoded data removed]",
            "text/plain": [
              "<Figure size 1000x800 with 2 Axes>"
            ]
          },
          "metadata": {},
          "output_type": "display_data"
        },
        {
          "data": {
            "image/png": "[encoded data removed]",
            "text/plain": [
              "<Figure size 600x600 with 1 Axes>"
            ]
          },
          "metadata": {},
          "output_type": "display_data"
        }
      ],
      "source": [
        "# plotting bar chart for legit & fraud transaction\n",
        "plt.figure(figsize=(6,6))\n",
        "labels = [\"Legit\", \"Fraud\"]\n",
        "count_classes = df.value_counts(df['isFraud'], sort= True)\n",
        "count_classes.plot(kind = \"bar\", rot = 0)\n",
        "plt.title(\"Visualization of Labels\")\n",
        "plt.ylabel(\"Count\")\n",
        "plt.xticks(range(2), labels)\n",
        "plt.show()"
      ]
    },
    {
      "cell_type": "markdown",
      "id": "62e406f3",
      "metadata": {
        "papermill": {
          "duration": 0.012493,
          "end_time": "2024-05-19T10:39:05.703845",
          "exception": false,
          "start_time": "2024-05-19T10:39:05.691352",
          "status": "completed"
        },
        "tags": [],
        "id": "62e406f3"
      },
      "source": [
        "# <b/> Feature Engineering"
      ]
    },
    {
      "cell_type": "code",
      "execution_count": null,
      "id": "c26e1021",
      "metadata": {
        "execution": {
          "iopub.execute_input": "2024-05-19T10:39:05.731311Z",
          "iopub.status.busy": "2024-05-19T10:39:05.730937Z",
          "iopub.status.idle": "2024-05-19T10:39:06.126273Z",
          "shell.execute_reply": "2024-05-19T10:39:06.125187Z"
        },
        "papermill": {
          "duration": 0.41198,
          "end_time": "2024-05-19T10:39:06.128676",
          "exception": false,
          "start_time": "2024-05-19T10:39:05.716696",
          "status": "completed"
        },
        "tags": [],
        "id": "c26e1021",
        "outputId": "c0768fda-fff1-480a-8e44-53c7278444a6"
      },
      "outputs": [
        {
          "data": {
            "text/html": [
              "<div>\n",
              "<style scoped>\n",
              "    .dataframe tbody tr th:only-of-type {\n",
              "        vertical-align: middle;\n",
              "    }\n",
              "\n",
              "    .dataframe tbody tr th {\n",
              "        vertical-align: top;\n",
              "    }\n",
              "\n",
              "    .dataframe thead th {\n",
              "        text-align: right;\n",
              "    }\n",
              "</style>\n",
              "<table border=\"1\" class=\"dataframe\">\n",
              "  <thead>\n",
              "    <tr style=\"text-align: right;\">\n",
              "      <th></th>\n",
              "      <th>step</th>\n",
              "      <th>type</th>\n",
              "      <th>amount</th>\n",
              "      <th>nameOrig</th>\n",
              "      <th>oldbalanceOrg</th>\n",
              "      <th>newbalanceOrig</th>\n",
              "      <th>nameDest</th>\n",
              "      <th>oldbalanceDest</th>\n",
              "      <th>newbalanceDest</th>\n",
              "      <th>isFraud</th>\n",
              "      <th>isFlaggedFraud</th>\n",
              "    </tr>\n",
              "  </thead>\n",
              "  <tbody>\n",
              "    <tr>\n",
              "      <th>0</th>\n",
              "      <td>1</td>\n",
              "      <td>PAYMENT</td>\n",
              "      <td>9839.64</td>\n",
              "      <td>C1231006815</td>\n",
              "      <td>170136.0</td>\n",
              "      <td>160296.36</td>\n",
              "      <td>M1979787155</td>\n",
              "      <td>0.0</td>\n",
              "      <td>0.0</td>\n",
              "      <td>0</td>\n",
              "      <td>0</td>\n",
              "    </tr>\n",
              "    <tr>\n",
              "      <th>1</th>\n",
              "      <td>1</td>\n",
              "      <td>PAYMENT</td>\n",
              "      <td>1864.28</td>\n",
              "      <td>C1666544295</td>\n",
              "      <td>21249.0</td>\n",
              "      <td>19384.72</td>\n",
              "      <td>M2044282225</td>\n",
              "      <td>0.0</td>\n",
              "      <td>0.0</td>\n",
              "      <td>0</td>\n",
              "      <td>0</td>\n",
              "    </tr>\n",
              "    <tr>\n",
              "      <th>2</th>\n",
              "      <td>1</td>\n",
              "      <td>TRANSFER</td>\n",
              "      <td>181.00</td>\n",
              "      <td>C1305486145</td>\n",
              "      <td>181.0</td>\n",
              "      <td>0.00</td>\n",
              "      <td>C553264065</td>\n",
              "      <td>0.0</td>\n",
              "      <td>0.0</td>\n",
              "      <td>1</td>\n",
              "      <td>0</td>\n",
              "    </tr>\n",
              "    <tr>\n",
              "      <th>3</th>\n",
              "      <td>1</td>\n",
              "      <td>CASH_OUT</td>\n",
              "      <td>181.00</td>\n",
              "      <td>C840083671</td>\n",
              "      <td>181.0</td>\n",
              "      <td>0.00</td>\n",
              "      <td>C38997010</td>\n",
              "      <td>21182.0</td>\n",
              "      <td>0.0</td>\n",
              "      <td>1</td>\n",
              "      <td>0</td>\n",
              "    </tr>\n",
              "    <tr>\n",
              "      <th>4</th>\n",
              "      <td>1</td>\n",
              "      <td>PAYMENT</td>\n",
              "      <td>11668.14</td>\n",
              "      <td>C2048537720</td>\n",
              "      <td>41554.0</td>\n",
              "      <td>29885.86</td>\n",
              "      <td>M1230701703</td>\n",
              "      <td>0.0</td>\n",
              "      <td>0.0</td>\n",
              "      <td>0</td>\n",
              "      <td>0</td>\n",
              "    </tr>\n",
              "  </tbody>\n",
              "</table>\n",
              "</div>"
            ],
            "text/plain": [
              "   step      type    amount     nameOrig  oldbalanceOrg  newbalanceOrig  \\\n",
              "0     1   PAYMENT   9839.64  C1231006815       170136.0       160296.36   \n",
              "1     1   PAYMENT   1864.28  C1666544295        21249.0        19384.72   \n",
              "2     1  TRANSFER    181.00  C1305486145          181.0            0.00   \n",
              "3     1  CASH_OUT    181.00   C840083671          181.0            0.00   \n",
              "4     1   PAYMENT  11668.14  C2048537720        41554.0        29885.86   \n",
              "\n",
              "      nameDest  oldbalanceDest  newbalanceDest  isFraud  isFlaggedFraud  \n",
              "0  M1979787155             0.0             0.0        0               0  \n",
              "1  M2044282225             0.0             0.0        0               0  \n",
              "2   C553264065             0.0             0.0        1               0  \n",
              "3    C38997010         21182.0             0.0        1               0  \n",
              "4  M1230701703             0.0             0.0        0               0  "
            ]
          },
          "execution_count": 19,
          "metadata": {},
          "output_type": "execute_result"
        }
      ],
      "source": [
        "# create a copy of the original dataframe\n",
        "df_new = df.copy()\n",
        "df_new.head()"
      ]
    },
    {
      "cell_type": "markdown",
      "id": "37b008d0",
      "metadata": {
        "papermill": {
          "duration": 0.068043,
          "end_time": "2024-05-19T10:39:06.209699",
          "exception": false,
          "start_time": "2024-05-19T10:39:06.141656",
          "status": "completed"
        },
        "tags": [],
        "id": "37b008d0"
      },
      "source": [
        "## <b/> Label Encoding"
      ]
    },
    {
      "cell_type": "markdown",
      "id": "1c3c6187",
      "metadata": {
        "id": "1c3c6187"
      },
      "source": [
        "Attributes having dtype : Object"
      ]
    },
    {
      "cell_type": "code",
      "execution_count": null,
      "id": "67c28a8e",
      "metadata": {
        "execution": {
          "iopub.execute_input": "2024-05-19T10:39:06.237730Z",
          "iopub.status.busy": "2024-05-19T10:39:06.237337Z",
          "iopub.status.idle": "2024-05-19T10:39:06.580594Z",
          "shell.execute_reply": "2024-05-19T10:39:06.579380Z"
        },
        "papermill": {
          "duration": 0.359742,
          "end_time": "2024-05-19T10:39:06.582702",
          "exception": false,
          "start_time": "2024-05-19T10:39:06.222960",
          "status": "completed"
        },
        "tags": [],
        "id": "67c28a8e",
        "outputId": "02708d8c-e520-4a0b-e091-554b1700cc13"
      },
      "outputs": [
        {
          "name": "stdout",
          "output_type": "stream",
          "text": [
            "Index(['type', 'nameOrig', 'nameDest'], dtype='object')\n"
          ]
        }
      ],
      "source": [
        "# check object datatypes\n",
        "objList = df_new.select_dtypes(include = \"object\").columns\n",
        "print(objList)"
      ]
    },
    {
      "cell_type": "markdown",
      "id": "67dad2a2",
      "metadata": {
        "papermill": {
          "duration": 0.013183,
          "end_time": "2024-05-19T10:39:06.609397",
          "exception": false,
          "start_time": "2024-05-19T10:39:06.596214",
          "status": "completed"
        },
        "tags": [],
        "id": "67dad2a2"
      },
      "source": [
        "- There are 3 attributes with object datatype. We need to label encode these to check multicollinearity."
      ]
    },
    {
      "cell_type": "code",
      "execution_count": null,
      "id": "bbdaa416",
      "metadata": {
        "execution": {
          "iopub.execute_input": "2024-05-19T10:39:06.637946Z",
          "iopub.status.busy": "2024-05-19T10:39:06.637503Z",
          "iopub.status.idle": "2024-05-19T10:39:56.739505Z",
          "shell.execute_reply": "2024-05-19T10:39:56.738252Z"
        },
        "papermill": {
          "duration": 50.131999,
          "end_time": "2024-05-19T10:39:56.754792",
          "exception": false,
          "start_time": "2024-05-19T10:39:06.622793",
          "status": "completed"
        },
        "tags": [],
        "id": "bbdaa416",
        "outputId": "ccb4fa43-909b-4829-adfa-302fa0e6daa3"
      },
      "outputs": [
        {
          "name": "stdout",
          "output_type": "stream",
          "text": [
            "<class 'pandas.core.frame.DataFrame'>\n",
            "RangeIndex: 6362620 entries, 0 to 6362619\n",
            "Data columns (total 11 columns):\n",
            " #   Column          Dtype  \n",
            "---  ------          -----  \n",
            " 0   step            int64  \n",
            " 1   type            int32  \n",
            " 2   amount          float64\n",
            " 3   nameOrig        int32  \n",
            " 4   oldbalanceOrg   float64\n",
            " 5   newbalanceOrig  float64\n",
            " 6   nameDest        int32  \n",
            " 7   oldbalanceDest  float64\n",
            " 8   newbalanceDest  float64\n",
            " 9   isFraud         int64  \n",
            " 10  isFlaggedFraud  int64  \n",
            "dtypes: float64(5), int32(3), int64(3)\n",
            "memory usage: 461.2 MB\n",
            "None\n"
          ]
        }
      ],
      "source": [
        "# encode the objects\n",
        "le = LabelEncoder()\n",
        "\n",
        "for f in objList:\n",
        "    df_new[f] = le.fit_transform(df_new[f].astype(str))\n",
        "\n",
        "print(df_new.info())"
      ]
    },
    {
      "cell_type": "code",
      "execution_count": null,
      "id": "43982174",
      "metadata": {
        "execution": {
          "iopub.execute_input": "2024-05-19T10:39:56.784071Z",
          "iopub.status.busy": "2024-05-19T10:39:56.783150Z",
          "iopub.status.idle": "2024-05-19T10:39:56.799941Z",
          "shell.execute_reply": "2024-05-19T10:39:56.798786Z"
        },
        "papermill": {
          "duration": 0.033765,
          "end_time": "2024-05-19T10:39:56.802131",
          "exception": false,
          "start_time": "2024-05-19T10:39:56.768366",
          "status": "completed"
        },
        "tags": [],
        "id": "43982174",
        "outputId": "485410b6-f258-4ffd-f2cc-2e0132c89f11"
      },
      "outputs": [
        {
          "data": {
            "text/html": [
              "<div>\n",
              "<style scoped>\n",
              "    .dataframe tbody tr th:only-of-type {\n",
              "        vertical-align: middle;\n",
              "    }\n",
              "\n",
              "    .dataframe tbody tr th {\n",
              "        vertical-align: top;\n",
              "    }\n",
              "\n",
              "    .dataframe thead th {\n",
              "        text-align: right;\n",
              "    }\n",
              "</style>\n",
              "<table border=\"1\" class=\"dataframe\">\n",
              "  <thead>\n",
              "    <tr style=\"text-align: right;\">\n",
              "      <th></th>\n",
              "      <th>step</th>\n",
              "      <th>type</th>\n",
              "      <th>amount</th>\n",
              "      <th>nameOrig</th>\n",
              "      <th>oldbalanceOrg</th>\n",
              "      <th>newbalanceOrig</th>\n",
              "      <th>nameDest</th>\n",
              "      <th>oldbalanceDest</th>\n",
              "      <th>newbalanceDest</th>\n",
              "      <th>isFraud</th>\n",
              "      <th>isFlaggedFraud</th>\n",
              "    </tr>\n",
              "  </thead>\n",
              "  <tbody>\n",
              "    <tr>\n",
              "      <th>0</th>\n",
              "      <td>1</td>\n",
              "      <td>3</td>\n",
              "      <td>9839.64</td>\n",
              "      <td>757869</td>\n",
              "      <td>170136.0</td>\n",
              "      <td>160296.36</td>\n",
              "      <td>1662094</td>\n",
              "      <td>0.0</td>\n",
              "      <td>0.0</td>\n",
              "      <td>0</td>\n",
              "      <td>0</td>\n",
              "    </tr>\n",
              "    <tr>\n",
              "      <th>1</th>\n",
              "      <td>1</td>\n",
              "      <td>3</td>\n",
              "      <td>1864.28</td>\n",
              "      <td>2188998</td>\n",
              "      <td>21249.0</td>\n",
              "      <td>19384.72</td>\n",
              "      <td>1733924</td>\n",
              "      <td>0.0</td>\n",
              "      <td>0.0</td>\n",
              "      <td>0</td>\n",
              "      <td>0</td>\n",
              "    </tr>\n",
              "    <tr>\n",
              "      <th>2</th>\n",
              "      <td>1</td>\n",
              "      <td>4</td>\n",
              "      <td>181.00</td>\n",
              "      <td>1002156</td>\n",
              "      <td>181.0</td>\n",
              "      <td>0.00</td>\n",
              "      <td>439685</td>\n",
              "      <td>0.0</td>\n",
              "      <td>0.0</td>\n",
              "      <td>1</td>\n",
              "      <td>0</td>\n",
              "    </tr>\n",
              "    <tr>\n",
              "      <th>3</th>\n",
              "      <td>1</td>\n",
              "      <td>1</td>\n",
              "      <td>181.00</td>\n",
              "      <td>5828262</td>\n",
              "      <td>181.0</td>\n",
              "      <td>0.00</td>\n",
              "      <td>391696</td>\n",
              "      <td>21182.0</td>\n",
              "      <td>0.0</td>\n",
              "      <td>1</td>\n",
              "      <td>0</td>\n",
              "    </tr>\n",
              "    <tr>\n",
              "      <th>4</th>\n",
              "      <td>1</td>\n",
              "      <td>3</td>\n",
              "      <td>11668.14</td>\n",
              "      <td>3445981</td>\n",
              "      <td>41554.0</td>\n",
              "      <td>29885.86</td>\n",
              "      <td>828919</td>\n",
              "      <td>0.0</td>\n",
              "      <td>0.0</td>\n",
              "      <td>0</td>\n",
              "      <td>0</td>\n",
              "    </tr>\n",
              "  </tbody>\n",
              "</table>\n",
              "</div>"
            ],
            "text/plain": [
              "   step  type    amount  nameOrig  oldbalanceOrg  newbalanceOrig  nameDest  \\\n",
              "0     1     3   9839.64    757869       170136.0       160296.36   1662094   \n",
              "1     1     3   1864.28   2188998        21249.0        19384.72   1733924   \n",
              "2     1     4    181.00   1002156          181.0            0.00    439685   \n",
              "3     1     1    181.00   5828262          181.0            0.00    391696   \n",
              "4     1     3  11668.14   3445981        41554.0        29885.86    828919   \n",
              "\n",
              "   oldbalanceDest  newbalanceDest  isFraud  isFlaggedFraud  \n",
              "0             0.0             0.0        0               0  \n",
              "1             0.0             0.0        0               0  \n",
              "2             0.0             0.0        1               0  \n",
              "3         21182.0             0.0        1               0  \n",
              "4             0.0             0.0        0               0  "
            ]
          },
          "execution_count": 22,
          "metadata": {},
          "output_type": "execute_result"
        }
      ],
      "source": [
        "df_new.head()"
      ]
    },
    {
      "cell_type": "markdown",
      "id": "9bf5ea5b",
      "metadata": {
        "papermill": {
          "duration": 0.013479,
          "end_time": "2024-05-19T10:39:56.829524",
          "exception": false,
          "start_time": "2024-05-19T10:39:56.816045",
          "status": "completed"
        },
        "tags": [],
        "id": "9bf5ea5b"
      },
      "source": [
        "## <b/> Multicollinearity"
      ]
    },
    {
      "cell_type": "code",
      "execution_count": null,
      "id": "a5a1d800",
      "metadata": {
        "execution": {
          "iopub.execute_input": "2024-05-19T10:39:56.858684Z",
          "iopub.status.busy": "2024-05-19T10:39:56.858282Z",
          "iopub.status.idle": "2024-05-19T10:41:17.332750Z",
          "shell.execute_reply": "2024-05-19T10:41:17.331483Z"
        },
        "papermill": {
          "duration": 80.518747,
          "end_time": "2024-05-19T10:41:17.362046",
          "exception": false,
          "start_time": "2024-05-19T10:39:56.843299",
          "status": "completed"
        },
        "tags": [],
        "id": "a5a1d800",
        "outputId": "2d95d589-6fe8-4399-8c1b-1669e9f2d8f3"
      },
      "outputs": [
        {
          "data": {
            "text/html": [
              "<div>\n",
              "<style scoped>\n",
              "    .dataframe tbody tr th:only-of-type {\n",
              "        vertical-align: middle;\n",
              "    }\n",
              "\n",
              "    .dataframe tbody tr th {\n",
              "        vertical-align: top;\n",
              "    }\n",
              "\n",
              "    .dataframe thead th {\n",
              "        text-align: right;\n",
              "    }\n",
              "</style>\n",
              "<table border=\"1\" class=\"dataframe\">\n",
              "  <thead>\n",
              "    <tr style=\"text-align: right;\">\n",
              "      <th></th>\n",
              "      <th>variables</th>\n",
              "      <th>VIF</th>\n",
              "    </tr>\n",
              "  </thead>\n",
              "  <tbody>\n",
              "    <tr>\n",
              "      <th>0</th>\n",
              "      <td>step</td>\n",
              "      <td>2.791610</td>\n",
              "    </tr>\n",
              "    <tr>\n",
              "      <th>1</th>\n",
              "      <td>type</td>\n",
              "      <td>4.467405</td>\n",
              "    </tr>\n",
              "    <tr>\n",
              "      <th>2</th>\n",
              "      <td>amount</td>\n",
              "      <td>4.149312</td>\n",
              "    </tr>\n",
              "    <tr>\n",
              "      <th>3</th>\n",
              "      <td>nameOrig</td>\n",
              "      <td>2.764234</td>\n",
              "    </tr>\n",
              "    <tr>\n",
              "      <th>4</th>\n",
              "      <td>oldbalanceOrg</td>\n",
              "      <td>576.803777</td>\n",
              "    </tr>\n",
              "    <tr>\n",
              "      <th>5</th>\n",
              "      <td>newbalanceOrig</td>\n",
              "      <td>582.709128</td>\n",
              "    </tr>\n",
              "    <tr>\n",
              "      <th>6</th>\n",
              "      <td>nameDest</td>\n",
              "      <td>3.300975</td>\n",
              "    </tr>\n",
              "    <tr>\n",
              "      <th>7</th>\n",
              "      <td>oldbalanceDest</td>\n",
              "      <td>73.349937</td>\n",
              "    </tr>\n",
              "    <tr>\n",
              "      <th>8</th>\n",
              "      <td>newbalanceDest</td>\n",
              "      <td>85.005614</td>\n",
              "    </tr>\n",
              "    <tr>\n",
              "      <th>9</th>\n",
              "      <td>isFraud</td>\n",
              "      <td>1.195305</td>\n",
              "    </tr>\n",
              "    <tr>\n",
              "      <th>10</th>\n",
              "      <td>isFlaggedFraud</td>\n",
              "      <td>1.002587</td>\n",
              "    </tr>\n",
              "  </tbody>\n",
              "</table>\n",
              "</div>"
            ],
            "text/plain": [
              "         variables         VIF\n",
              "0             step    2.791610\n",
              "1             type    4.467405\n",
              "2           amount    4.149312\n",
              "3         nameOrig    2.764234\n",
              "4    oldbalanceOrg  576.803777\n",
              "5   newbalanceOrig  582.709128\n",
              "6         nameDest    3.300975\n",
              "7   oldbalanceDest   73.349937\n",
              "8   newbalanceDest   85.005614\n",
              "9          isFraud    1.195305\n",
              "10  isFlaggedFraud    1.002587"
            ]
          },
          "execution_count": 23,
          "metadata": {},
          "output_type": "execute_result"
        }
      ],
      "source": [
        "# function to find the variation inflation factor\n",
        "def cal_vif(df):\n",
        "    vif = pd.DataFrame()\n",
        "    vif['variables'] = df.columns\n",
        "    vif['VIF'] = [variance_inflation_factor(df.values,i) for i in range(df.shape[1])]\n",
        "    return vif\n",
        "\n",
        "cal_vif(df_new)"
      ]
    },
    {
      "cell_type": "markdown",
      "id": "1398c1c0",
      "metadata": {
        "id": "1398c1c0"
      },
      "source": [
        "So from the above observation, we can clearly see that there is high corelation between\n",
        "1) oldbalanceOrg and newbalanceOrig (Scores are mostly similar =  576 and 582)\n",
        "2) oldbalanceDest and newbalanceDest ( Scores = 73 and 85)"
      ]
    },
    {
      "cell_type": "markdown",
      "id": "cd8396d6",
      "metadata": {
        "id": "cd8396d6"
      },
      "source": [
        "Solution - we can combine these pairs of collinear attributes and drop the individual ones to reduce the complexity of the model."
      ]
    },
    {
      "cell_type": "code",
      "execution_count": null,
      "id": "6c1851a9",
      "metadata": {
        "execution": {
          "iopub.execute_input": "2024-05-19T10:41:17.454340Z",
          "iopub.status.busy": "2024-05-19T10:41:17.453947Z",
          "iopub.status.idle": "2024-05-19T10:45:14.532125Z",
          "shell.execute_reply": "2024-05-19T10:45:14.530964Z"
        },
        "papermill": {
          "duration": 237.122711,
          "end_time": "2024-05-19T10:45:14.560961",
          "exception": false,
          "start_time": "2024-05-19T10:41:17.438250",
          "status": "completed"
        },
        "tags": [],
        "id": "6c1851a9",
        "outputId": "24faa49f-dbaf-4b87-f649-5d23c4ab9916"
      },
      "outputs": [
        {
          "data": {
            "text/html": [
              "<div>\n",
              "<style scoped>\n",
              "    .dataframe tbody tr th:only-of-type {\n",
              "        vertical-align: middle;\n",
              "    }\n",
              "\n",
              "    .dataframe tbody tr th {\n",
              "        vertical-align: top;\n",
              "    }\n",
              "\n",
              "    .dataframe thead th {\n",
              "        text-align: right;\n",
              "    }\n",
              "</style>\n",
              "<table border=\"1\" class=\"dataframe\">\n",
              "  <thead>\n",
              "    <tr style=\"text-align: right;\">\n",
              "      <th></th>\n",
              "      <th>variables</th>\n",
              "      <th>VIF</th>\n",
              "    </tr>\n",
              "  </thead>\n",
              "  <tbody>\n",
              "    <tr>\n",
              "      <th>0</th>\n",
              "      <td>type</td>\n",
              "      <td>2.687803</td>\n",
              "    </tr>\n",
              "    <tr>\n",
              "      <th>1</th>\n",
              "      <td>amount</td>\n",
              "      <td>3.818902</td>\n",
              "    </tr>\n",
              "    <tr>\n",
              "      <th>2</th>\n",
              "      <td>isFraud</td>\n",
              "      <td>1.184479</td>\n",
              "    </tr>\n",
              "    <tr>\n",
              "      <th>3</th>\n",
              "      <td>isFlaggedFraud</td>\n",
              "      <td>1.002546</td>\n",
              "    </tr>\n",
              "    <tr>\n",
              "      <th>4</th>\n",
              "      <td>Actual_amount_orig</td>\n",
              "      <td>1.307910</td>\n",
              "    </tr>\n",
              "    <tr>\n",
              "      <th>5</th>\n",
              "      <td>Actual_amount_dest</td>\n",
              "      <td>3.754335</td>\n",
              "    </tr>\n",
              "    <tr>\n",
              "      <th>6</th>\n",
              "      <td>TransactionPath</td>\n",
              "      <td>2.677167</td>\n",
              "    </tr>\n",
              "  </tbody>\n",
              "</table>\n",
              "</div>"
            ],
            "text/plain": [
              "            variables       VIF\n",
              "0                type  2.687803\n",
              "1              amount  3.818902\n",
              "2             isFraud  1.184479\n",
              "3      isFlaggedFraud  1.002546\n",
              "4  Actual_amount_orig  1.307910\n",
              "5  Actual_amount_dest  3.754335\n",
              "6     TransactionPath  2.677167"
            ]
          },
          "execution_count": 24,
          "metadata": {},
          "output_type": "execute_result"
        }
      ],
      "source": [
        "# creating new features to capture the change in balances and transaction paths\n",
        "df_new['Actual_amount_orig'] = df_new.apply(lambda x: x['oldbalanceOrg'] - x['newbalanceOrig'],axis=1)\n",
        "df_new['Actual_amount_dest'] = df_new.apply(lambda x: x['oldbalanceDest'] - x['newbalanceDest'],axis=1)\n",
        "df_new['TransactionPath'] = df_new.apply(lambda x: x['nameOrig'] + x['nameDest'],axis=1)\n",
        "\n",
        "#Dropping columns\n",
        "df_new = df_new.drop(['oldbalanceOrg','newbalanceOrig','oldbalanceDest','newbalanceDest','step','nameOrig','nameDest'],axis=1)\n",
        "\n",
        "cal_vif(df_new)"
      ]
    },
    {
      "cell_type": "code",
      "execution_count": null,
      "id": "c6e450a5",
      "metadata": {
        "execution": {
          "iopub.execute_input": "2024-05-19T10:45:14.612657Z",
          "iopub.status.busy": "2024-05-19T10:45:14.612121Z",
          "iopub.status.idle": "2024-05-19T10:45:16.220320Z",
          "shell.execute_reply": "2024-05-19T10:45:16.219263Z"
        },
        "papermill": {
          "duration": 1.637658,
          "end_time": "2024-05-19T10:45:16.222688",
          "exception": false,
          "start_time": "2024-05-19T10:45:14.585030",
          "status": "completed"
        },
        "tags": [],
        "id": "c6e450a5",
        "outputId": "c2a50cff-94bd-47cd-b3a9-a27ff4ffa0fb"
      },
      "outputs": [
        {
          "data": {
            "text/plain": [
              "<Axes: >"
            ]
          },
          "execution_count": 25,
          "metadata": {},
          "output_type": "execute_result"
        }
      ],
      "source": [
        "# new correlation heatmap\n",
        "corr=df_new.corr()\n",
        "\n",
        "sns.heatmap(corr,annot=True)"
      ]
    },
    {
      "cell_type": "markdown",
      "id": "b0b504e3",
      "metadata": {
        "papermill": {
          "duration": 0.015255,
          "end_time": "2024-05-19T10:45:16.253728",
          "exception": false,
          "start_time": "2024-05-19T10:45:16.238473",
          "status": "completed"
        },
        "tags": [],
        "id": "b0b504e3"
      },
      "source": [
        "<b/> How did you select variables to be included in the model?\n",
        "   \n",
        "- Using the VIF values and correlation heatmap. We just need to check if there are any two attributes highly correlated to each other and then drop the one which is less correlated to the isFraud Attribute."
      ]
    },
    {
      "cell_type": "markdown",
      "id": "115a397f",
      "metadata": {
        "papermill": {
          "duration": 0.015339,
          "end_time": "2024-05-19T10:45:16.284646",
          "exception": false,
          "start_time": "2024-05-19T10:45:16.269307",
          "status": "completed"
        },
        "tags": [],
        "id": "115a397f"
      },
      "source": [
        "# <b/> ML Model Building"
      ]
    },
    {
      "cell_type": "markdown",
      "id": "dd25b0df",
      "metadata": {
        "papermill": {
          "duration": 0.015166,
          "end_time": "2024-05-19T10:45:16.315677",
          "exception": false,
          "start_time": "2024-05-19T10:45:16.300511",
          "status": "completed"
        },
        "tags": [],
        "id": "dd25b0df"
      },
      "source": [
        "## <b/> Scaling the Data"
      ]
    },
    {
      "cell_type": "code",
      "execution_count": null,
      "id": "7ef77a5d",
      "metadata": {
        "execution": {
          "iopub.execute_input": "2024-05-19T10:45:16.348863Z",
          "iopub.status.busy": "2024-05-19T10:45:16.348449Z",
          "iopub.status.idle": "2024-05-19T10:45:16.792166Z",
          "shell.execute_reply": "2024-05-19T10:45:16.791067Z"
        },
        "papermill": {
          "duration": 0.463552,
          "end_time": "2024-05-19T10:45:16.794917",
          "exception": false,
          "start_time": "2024-05-19T10:45:16.331365",
          "status": "completed"
        },
        "tags": [],
        "id": "7ef77a5d"
      },
      "outputs": [],
      "source": [
        "# scale the dataset\n",
        "scaler = StandardScaler()\n",
        "df_new[\"NormalizedAmount\"] = scaler.fit_transform(df_new[\"amount\"].values.reshape(-1, 1))\n",
        "df_new.drop([\"amount\"], inplace= True, axis= 1)\n",
        "\n",
        "Y = df_new[\"isFraud\"]\n",
        "X = df_new.drop([\"isFraud\"], axis= 1)"
      ]
    },
    {
      "cell_type": "markdown",
      "id": "85dde78b",
      "metadata": {
        "papermill": {
          "duration": 0.01521,
          "end_time": "2024-05-19T10:45:16.826294",
          "exception": false,
          "start_time": "2024-05-19T10:45:16.811084",
          "status": "completed"
        },
        "tags": [],
        "id": "85dde78b"
      },
      "source": [
        "- I did not normalize the complete dataset because it may lead to decrease in accuracy of model.\n",
        "\n"
      ]
    },
    {
      "cell_type": "markdown",
      "id": "bd552676",
      "metadata": {
        "papermill": {
          "duration": 0.015222,
          "end_time": "2024-05-19T10:45:16.857146",
          "exception": false,
          "start_time": "2024-05-19T10:45:16.841924",
          "status": "completed"
        },
        "tags": [],
        "id": "bd552676"
      },
      "source": [
        "## <b/> Splitting the Data into training set containing 70% of the data while rest remaining data as test data"
      ]
    },
    {
      "cell_type": "code",
      "execution_count": null,
      "id": "ba30344e",
      "metadata": {
        "execution": {
          "iopub.execute_input": "2024-05-19T10:45:16.889862Z",
          "iopub.status.busy": "2024-05-19T10:45:16.889449Z",
          "iopub.status.idle": "2024-05-19T10:45:18.209633Z",
          "shell.execute_reply": "2024-05-19T10:45:18.207729Z"
        },
        "papermill": {
          "duration": 1.339339,
          "end_time": "2024-05-19T10:45:18.212079",
          "exception": false,
          "start_time": "2024-05-19T10:45:16.872740",
          "status": "completed"
        },
        "tags": [],
        "id": "ba30344e",
        "outputId": "0dc2f906-ad5e-4251-9225-ee611bb4fd3e"
      },
      "outputs": [
        {
          "name": "stdout",
          "output_type": "stream",
          "text": [
            "Shape of X_train:  (4453834, 6)\n",
            "Shape of X_test:  (1908786, 6)\n"
          ]
        }
      ],
      "source": [
        "# split the dataset for training and testing\n",
        "X_train, X_test, Y_train, Y_test = train_test_split(X, Y, test_size= 0.3, random_state= 42)\n",
        "\n",
        "print(\"Shape of X_train: \", X_train.shape)\n",
        "print(\"Shape of X_test: \", X_test.shape)"
      ]
    },
    {
      "cell_type": "markdown",
      "id": "f3ec2f89",
      "metadata": {
        "papermill": {
          "duration": 0.015438,
          "end_time": "2024-05-19T10:45:18.243331",
          "exception": false,
          "start_time": "2024-05-19T10:45:18.227893",
          "status": "completed"
        },
        "tags": [],
        "id": "f3ec2f89"
      },
      "source": [
        "## <b/> Model Training"
      ]
    },
    {
      "cell_type": "markdown",
      "id": "928c77ab",
      "metadata": {
        "id": "928c77ab"
      },
      "source": [
        "### 1) Decision Tree"
      ]
    },
    {
      "cell_type": "code",
      "execution_count": null,
      "id": "e444c240",
      "metadata": {
        "execution": {
          "iopub.execute_input": "2024-05-19T10:45:18.276693Z",
          "iopub.status.busy": "2024-05-19T10:45:18.275715Z",
          "iopub.status.idle": "2024-05-19T10:46:34.131725Z",
          "shell.execute_reply": "2024-05-19T10:46:34.130632Z"
        },
        "papermill": {
          "duration": 75.875783,
          "end_time": "2024-05-19T10:46:34.134563",
          "exception": false,
          "start_time": "2024-05-19T10:45:18.258780",
          "status": "completed"
        },
        "tags": [],
        "id": "e444c240",
        "outputId": "79a0d21b-18c7-4902-8158-dbf8bc629e34"
      },
      "outputs": [
        {
          "name": "stdout",
          "output_type": "stream",
          "text": [
            "99.92393070779019\n"
          ]
        }
      ],
      "source": [
        "# Decision Tree\n",
        "dtc = DecisionTreeClassifier()\n",
        "dtc.fit(X_train, Y_train)\n",
        "\n",
        "Y_pred_dt = dtc.predict(X_test)\n",
        "dtc_score = dtc.score(X_test, Y_test) * 100\n",
        "print(dtc_score)"
      ]
    },
    {
      "cell_type": "markdown",
      "id": "6ef504ac",
      "metadata": {
        "id": "6ef504ac"
      },
      "source": [
        "### 2) Random Forest Classifier"
      ]
    },
    {
      "cell_type": "code",
      "execution_count": null,
      "id": "36b3a657",
      "metadata": {
        "execution": {
          "iopub.execute_input": "2024-05-19T10:46:34.168138Z",
          "iopub.status.busy": "2024-05-19T10:46:34.167715Z",
          "iopub.status.idle": "2024-05-19T11:16:29.533103Z",
          "shell.execute_reply": "2024-05-19T11:16:29.531737Z"
        },
        "papermill": {
          "duration": 1795.385291,
          "end_time": "2024-05-19T11:16:29.536062",
          "exception": false,
          "start_time": "2024-05-19T10:46:34.150771",
          "status": "completed"
        },
        "tags": [],
        "id": "36b3a657",
        "outputId": "7d00b85e-12e1-4230-e2ca-0b6ba5c74582"
      },
      "outputs": [
        {
          "name": "stdout",
          "output_type": "stream",
          "text": [
            "99.95876960539316\n"
          ]
        }
      ],
      "source": [
        "# Random Forest\n",
        "rfc = RandomForestClassifier(n_estimators= 100)\n",
        "rfc.fit(X_train, Y_train)\n",
        "\n",
        "Y_pred_rf = rfc.predict(X_test)\n",
        "rfc_score = rfc.score(X_test, Y_test) * 100"
      ]
    },
    {
      "cell_type": "markdown",
      "id": "b3945fc9",
      "metadata": {
        "id": "b3945fc9"
      },
      "source": [
        "### 3) XG Boost Classifier"
      ]
    },
    {
      "cell_type": "code",
      "execution_count": null,
      "id": "afeb960e",
      "metadata": {
        "execution": {
          "iopub.execute_input": "2024-05-19T11:16:29.570662Z",
          "iopub.status.busy": "2024-05-19T11:16:29.570230Z",
          "iopub.status.idle": "2024-05-19T11:16:56.478310Z",
          "shell.execute_reply": "2024-05-19T11:16:56.477211Z"
        },
        "papermill": {
          "duration": 26.928324,
          "end_time": "2024-05-19T11:16:56.480891",
          "exception": false,
          "start_time": "2024-05-19T11:16:29.552567",
          "status": "completed"
        },
        "tags": [],
        "id": "afeb960e",
        "outputId": "f783cc89-6ed0-456b-f786-00d9d11a5517"
      },
      "outputs": [
        {
          "name": "stdout",
          "output_type": "stream",
          "text": [
            "99.95766942967938\n"
          ]
        }
      ],
      "source": [
        "# XGBoost\n",
        "xgb = XGBClassifier()\n",
        "xgb.fit(X_train, Y_train)\n",
        "from sklearn.metrics import accuracy_score\n",
        "\n",
        "Y_pred_xgb = xgb.predict(X_test)\n",
        "xgb_score = xgb.score(X_test, Y_test) * 100\n",
        "\n"
      ]
    },
    {
      "cell_type": "markdown",
      "id": "ee0d4437",
      "metadata": {
        "id": "ee0d4437"
      },
      "source": [
        "### 4) Naive Bayes"
      ]
    },
    {
      "cell_type": "code",
      "execution_count": null,
      "id": "2630e1a7",
      "metadata": {
        "id": "2630e1a7",
        "outputId": "403307a8-c751-40d3-d401-8d084559ca86"
      },
      "outputs": [
        {
          "data": {
            "text/html": [
              "<style>#sk-container-id-1 {color: black;background-color: white;}#sk-container-id-1 pre{padding: 0;}#sk-container-id-1 div.sk-toggleable {background-color: white;}#sk-container-id-1 label.sk-toggleable__label {cursor: pointer;display: block;width: 100%;margin-bottom: 0;padding: 0.3em;box-sizing: border-box;text-align: center;}#sk-container-id-1 label.sk-toggleable__label-arrow:before {content: \"▸\";float: left;margin-right: 0.25em;color: #696969;}#sk-container-id-1 label.sk-toggleable__label-arrow:hover:before {color: black;}#sk-container-id-1 div.sk-estimator:hover label.sk-toggleable__label-arrow:before {color: black;}#sk-container-id-1 div.sk-toggleable__content {max-height: 0;max-width: 0;overflow: hidden;text-align: left;background-color: #f0f8ff;}#sk-container-id-1 div.sk-toggleable__content pre {margin: 0.2em;color: black;border-radius: 0.25em;background-color: #f0f8ff;}#sk-container-id-1 input.sk-toggleable__control:checked~div.sk-toggleable__content {max-height: 200px;max-width: 100%;overflow: auto;}#sk-container-id-1 input.sk-toggleable__control:checked~label.sk-toggleable__label-arrow:before {content: \"▾\";}#sk-container-id-1 div.sk-estimator input.sk-toggleable__control:checked~label.sk-toggleable__label {background-color: #d4ebff;}#sk-container-id-1 div.sk-label input.sk-toggleable__control:checked~label.sk-toggleable__label {background-color: #d4ebff;}#sk-container-id-1 input.sk-hidden--visually {border: 0;clip: rect(1px 1px 1px 1px);clip: rect(1px, 1px, 1px, 1px);height: 1px;margin: -1px;overflow: hidden;padding: 0;position: absolute;width: 1px;}#sk-container-id-1 div.sk-estimator {font-family: monospace;background-color: #f0f8ff;border: 1px dotted black;border-radius: 0.25em;box-sizing: border-box;margin-bottom: 0.5em;}#sk-container-id-1 div.sk-estimator:hover {background-color: #d4ebff;}#sk-container-id-1 div.sk-parallel-item::after {content: \"\";width: 100%;border-bottom: 1px solid gray;flex-grow: 1;}#sk-container-id-1 div.sk-label:hover label.sk-toggleable__label {background-color: #d4ebff;}#sk-container-id-1 div.sk-serial::before {content: \"\";position: absolute;border-left: 1px solid gray;box-sizing: border-box;top: 0;bottom: 0;left: 50%;z-index: 0;}#sk-container-id-1 div.sk-serial {display: flex;flex-direction: column;align-items: center;background-color: white;padding-right: 0.2em;padding-left: 0.2em;position: relative;}#sk-container-id-1 div.sk-item {position: relative;z-index: 1;}#sk-container-id-1 div.sk-parallel {display: flex;align-items: stretch;justify-content: center;background-color: white;position: relative;}#sk-container-id-1 div.sk-item::before, #sk-container-id-1 div.sk-parallel-item::before {content: \"\";position: absolute;border-left: 1px solid gray;box-sizing: border-box;top: 0;bottom: 0;left: 50%;z-index: -1;}#sk-container-id-1 div.sk-parallel-item {display: flex;flex-direction: column;z-index: 1;position: relative;background-color: white;}#sk-container-id-1 div.sk-parallel-item:first-child::after {align-self: flex-end;width: 50%;}#sk-container-id-1 div.sk-parallel-item:last-child::after {align-self: flex-start;width: 50%;}#sk-container-id-1 div.sk-parallel-item:only-child::after {width: 0;}#sk-container-id-1 div.sk-dashed-wrapped {border: 1px dashed gray;margin: 0 0.4em 0.5em 0.4em;box-sizing: border-box;padding-bottom: 0.4em;background-color: white;}#sk-container-id-1 div.sk-label label {font-family: monospace;font-weight: bold;display: inline-block;line-height: 1.2em;}#sk-container-id-1 div.sk-label-container {text-align: center;}#sk-container-id-1 div.sk-container {/* jupyter's `normalize.less` sets `[hidden] { display: none; }` but bootstrap.min.css set `[hidden] { display: none !important; }` so we also need the `!important` here to be able to override the default hidden behavior on the sphinx rendered scikit-learn.org. See: https://github.com/scikit-learn/scikit-learn/issues/21755 */display: inline-block !important;position: relative;}#sk-container-id-1 div.sk-text-repr-fallback {display: none;}</style><div id=\"sk-container-id-1\" class=\"sk-top-container\"><div class=\"sk-text-repr-fallback\"><pre>BernoulliNB()</pre><b>In a Jupyter environment, please rerun this cell to show the HTML representation or trust the notebook. <br />On GitHub, the HTML representation is unable to render, please try loading this page with nbviewer.org.</b></div><div class=\"sk-container\" hidden><div class=\"sk-item\"><div class=\"sk-estimator sk-toggleable\"><input class=\"sk-toggleable__control sk-hidden--visually\" id=\"sk-estimator-id-1\" type=\"checkbox\" checked><label for=\"sk-estimator-id-1\" class=\"sk-toggleable__label sk-toggleable__label-arrow\">BernoulliNB</label><div class=\"sk-toggleable__content\"><pre>BernoulliNB()</pre></div></div></div></div></div>"
            ],
            "text/plain": [
              "BernoulliNB()"
            ]
          },
          "execution_count": 40,
          "metadata": {},
          "output_type": "execute_result"
        }
      ],
      "source": [
        "from sklearn.naive_bayes import BernoulliNB\n",
        "bnb_model=BernoulliNB()\n",
        "bnb_model.fit(X_train,Y_train)"
      ]
    },
    {
      "cell_type": "code",
      "execution_count": null,
      "id": "544fcfe9",
      "metadata": {
        "id": "544fcfe9"
      },
      "outputs": [],
      "source": [
        "from sklearn.metrics import accuracy_score\n"
      ]
    },
    {
      "cell_type": "code",
      "execution_count": null,
      "id": "5666afdc",
      "metadata": {
        "id": "5666afdc"
      },
      "outputs": [],
      "source": [
        "y_pred=bnb_model.predict(X_test)"
      ]
    },
    {
      "cell_type": "code",
      "execution_count": null,
      "id": "a58cfd49",
      "metadata": {
        "id": "a58cfd49",
        "outputId": "5f64d4c8-cb67-400a-e2cc-aa263c1bb58b"
      },
      "outputs": [
        {
          "name": "stdout",
          "output_type": "stream",
          "text": [
            "99.92162557772323\n"
          ]
        }
      ],
      "source": [
        "nb_score = rfc.score(X_test, Y_test) * 100\n",
        "print(accuracy_score(Y_test.values,y_pred)*100)\n"
      ]
    },
    {
      "cell_type": "markdown",
      "id": "e8f724d3",
      "metadata": {
        "id": "e8f724d3"
      },
      "source": [
        "### 5) Support Vector Machine"
      ]
    },
    {
      "cell_type": "code",
      "execution_count": null,
      "id": "404f37a0",
      "metadata": {
        "id": "404f37a0",
        "outputId": "653eac7b-2528-4528-dfbd-438cf5aea561"
      },
      "outputs": [
        {
          "data": {
            "text/html": [
              "<style>#sk-container-id-2 {color: black;background-color: white;}#sk-container-id-2 pre{padding: 0;}#sk-container-id-2 div.sk-toggleable {background-color: white;}#sk-container-id-2 label.sk-toggleable__label {cursor: pointer;display: block;width: 100%;margin-bottom: 0;padding: 0.3em;box-sizing: border-box;text-align: center;}#sk-container-id-2 label.sk-toggleable__label-arrow:before {content: \"▸\";float: left;margin-right: 0.25em;color: #696969;}#sk-container-id-2 label.sk-toggleable__label-arrow:hover:before {color: black;}#sk-container-id-2 div.sk-estimator:hover label.sk-toggleable__label-arrow:before {color: black;}#sk-container-id-2 div.sk-toggleable__content {max-height: 0;max-width: 0;overflow: hidden;text-align: left;background-color: #f0f8ff;}#sk-container-id-2 div.sk-toggleable__content pre {margin: 0.2em;color: black;border-radius: 0.25em;background-color: #f0f8ff;}#sk-container-id-2 input.sk-toggleable__control:checked~div.sk-toggleable__content {max-height: 200px;max-width: 100%;overflow: auto;}#sk-container-id-2 input.sk-toggleable__control:checked~label.sk-toggleable__label-arrow:before {content: \"▾\";}#sk-container-id-2 div.sk-estimator input.sk-toggleable__control:checked~label.sk-toggleable__label {background-color: #d4ebff;}#sk-container-id-2 div.sk-label input.sk-toggleable__control:checked~label.sk-toggleable__label {background-color: #d4ebff;}#sk-container-id-2 input.sk-hidden--visually {border: 0;clip: rect(1px 1px 1px 1px);clip: rect(1px, 1px, 1px, 1px);height: 1px;margin: -1px;overflow: hidden;padding: 0;position: absolute;width: 1px;}#sk-container-id-2 div.sk-estimator {font-family: monospace;background-color: #f0f8ff;border: 1px dotted black;border-radius: 0.25em;box-sizing: border-box;margin-bottom: 0.5em;}#sk-container-id-2 div.sk-estimator:hover {background-color: #d4ebff;}#sk-container-id-2 div.sk-parallel-item::after {content: \"\";width: 100%;border-bottom: 1px solid gray;flex-grow: 1;}#sk-container-id-2 div.sk-label:hover label.sk-toggleable__label {background-color: #d4ebff;}#sk-container-id-2 div.sk-serial::before {content: \"\";position: absolute;border-left: 1px solid gray;box-sizing: border-box;top: 0;bottom: 0;left: 50%;z-index: 0;}#sk-container-id-2 div.sk-serial {display: flex;flex-direction: column;align-items: center;background-color: white;padding-right: 0.2em;padding-left: 0.2em;position: relative;}#sk-container-id-2 div.sk-item {position: relative;z-index: 1;}#sk-container-id-2 div.sk-parallel {display: flex;align-items: stretch;justify-content: center;background-color: white;position: relative;}#sk-container-id-2 div.sk-item::before, #sk-container-id-2 div.sk-parallel-item::before {content: \"\";position: absolute;border-left: 1px solid gray;box-sizing: border-box;top: 0;bottom: 0;left: 50%;z-index: -1;}#sk-container-id-2 div.sk-parallel-item {display: flex;flex-direction: column;z-index: 1;position: relative;background-color: white;}#sk-container-id-2 div.sk-parallel-item:first-child::after {align-self: flex-end;width: 50%;}#sk-container-id-2 div.sk-parallel-item:last-child::after {align-self: flex-start;width: 50%;}#sk-container-id-2 div.sk-parallel-item:only-child::after {width: 0;}#sk-container-id-2 div.sk-dashed-wrapped {border: 1px dashed gray;margin: 0 0.4em 0.5em 0.4em;box-sizing: border-box;padding-bottom: 0.4em;background-color: white;}#sk-container-id-2 div.sk-label label {font-family: monospace;font-weight: bold;display: inline-block;line-height: 1.2em;}#sk-container-id-2 div.sk-label-container {text-align: center;}#sk-container-id-2 div.sk-container {/* jupyter's `normalize.less` sets `[hidden] { display: none; }` but bootstrap.min.css set `[hidden] { display: none !important; }` so we also need the `!important` here to be able to override the default hidden behavior on the sphinx rendered scikit-learn.org. See: https://github.com/scikit-learn/scikit-learn/issues/21755 */display: inline-block !important;position: relative;}#sk-container-id-2 div.sk-text-repr-fallback {display: none;}</style><div id=\"sk-container-id-2\" class=\"sk-top-container\"><div class=\"sk-text-repr-fallback\"><pre>SVC()</pre><b>In a Jupyter environment, please rerun this cell to show the HTML representation or trust the notebook. <br />On GitHub, the HTML representation is unable to render, please try loading this page with nbviewer.org.</b></div><div class=\"sk-container\" hidden><div class=\"sk-item\"><div class=\"sk-estimator sk-toggleable\"><input class=\"sk-toggleable__control sk-hidden--visually\" id=\"sk-estimator-id-2\" type=\"checkbox\" checked><label for=\"sk-estimator-id-2\" class=\"sk-toggleable__label sk-toggleable__label-arrow\">SVC</label><div class=\"sk-toggleable__content\"><pre>SVC()</pre></div></div></div></div></div>"
            ],
            "text/plain": [
              "SVC()"
            ]
          },
          "execution_count": 47,
          "metadata": {},
          "output_type": "execute_result"
        }
      ],
      "source": [
        "from sklearn.svm import SVC\n",
        "svm_model=SVC()\n",
        "svm_model.fit(X_train,Y_train)"
      ]
    },
    {
      "cell_type": "code",
      "execution_count": null,
      "id": "a916a4a7",
      "metadata": {
        "id": "a916a4a7"
      },
      "outputs": [],
      "source": [
        "y_pred=svm_model.predict(X_test)"
      ]
    },
    {
      "cell_type": "code",
      "execution_count": null,
      "id": "b3e5d171",
      "metadata": {
        "id": "b3e5d171",
        "outputId": "cfd79432-2cc2-423f-843f-f6e93b0fa1e6"
      },
      "outputs": [
        {
          "name": "stdout",
          "output_type": "stream",
          "text": [
            "99.91167160697951\n"
          ]
        }
      ],
      "source": [
        "\n",
        "print(accuracy_score(Y_test.values,y_pred)*100)"
      ]
    },
    {
      "cell_type": "markdown",
      "id": "f455bad3",
      "metadata": {
        "id": "f455bad3"
      },
      "source": [
        "### 6) Logistic Regression"
      ]
    },
    {
      "cell_type": "code",
      "execution_count": null,
      "id": "99901780",
      "metadata": {
        "id": "99901780",
        "outputId": "9b11a9d2-f1f0-4bf6-d40d-661a7ab78987"
      },
      "outputs": [
        {
          "data": {
            "text/html": [
              "<style>#sk-container-id-3 {color: black;background-color: white;}#sk-container-id-3 pre{padding: 0;}#sk-container-id-3 div.sk-toggleable {background-color: white;}#sk-container-id-3 label.sk-toggleable__label {cursor: pointer;display: block;width: 100%;margin-bottom: 0;padding: 0.3em;box-sizing: border-box;text-align: center;}#sk-container-id-3 label.sk-toggleable__label-arrow:before {content: \"▸\";float: left;margin-right: 0.25em;color: #696969;}#sk-container-id-3 label.sk-toggleable__label-arrow:hover:before {color: black;}#sk-container-id-3 div.sk-estimator:hover label.sk-toggleable__label-arrow:before {color: black;}#sk-container-id-3 div.sk-toggleable__content {max-height: 0;max-width: 0;overflow: hidden;text-align: left;background-color: #f0f8ff;}#sk-container-id-3 div.sk-toggleable__content pre {margin: 0.2em;color: black;border-radius: 0.25em;background-color: #f0f8ff;}#sk-container-id-3 input.sk-toggleable__control:checked~div.sk-toggleable__content {max-height: 200px;max-width: 100%;overflow: auto;}#sk-container-id-3 input.sk-toggleable__control:checked~label.sk-toggleable__label-arrow:before {content: \"▾\";}#sk-container-id-3 div.sk-estimator input.sk-toggleable__control:checked~label.sk-toggleable__label {background-color: #d4ebff;}#sk-container-id-3 div.sk-label input.sk-toggleable__control:checked~label.sk-toggleable__label {background-color: #d4ebff;}#sk-container-id-3 input.sk-hidden--visually {border: 0;clip: rect(1px 1px 1px 1px);clip: rect(1px, 1px, 1px, 1px);height: 1px;margin: -1px;overflow: hidden;padding: 0;position: absolute;width: 1px;}#sk-container-id-3 div.sk-estimator {font-family: monospace;background-color: #f0f8ff;border: 1px dotted black;border-radius: 0.25em;box-sizing: border-box;margin-bottom: 0.5em;}#sk-container-id-3 div.sk-estimator:hover {background-color: #d4ebff;}#sk-container-id-3 div.sk-parallel-item::after {content: \"\";width: 100%;border-bottom: 1px solid gray;flex-grow: 1;}#sk-container-id-3 div.sk-label:hover label.sk-toggleable__label {background-color: #d4ebff;}#sk-container-id-3 div.sk-serial::before {content: \"\";position: absolute;border-left: 1px solid gray;box-sizing: border-box;top: 0;bottom: 0;left: 50%;z-index: 0;}#sk-container-id-3 div.sk-serial {display: flex;flex-direction: column;align-items: center;background-color: white;padding-right: 0.2em;padding-left: 0.2em;position: relative;}#sk-container-id-3 div.sk-item {position: relative;z-index: 1;}#sk-container-id-3 div.sk-parallel {display: flex;align-items: stretch;justify-content: center;background-color: white;position: relative;}#sk-container-id-3 div.sk-item::before, #sk-container-id-3 div.sk-parallel-item::before {content: \"\";position: absolute;border-left: 1px solid gray;box-sizing: border-box;top: 0;bottom: 0;left: 50%;z-index: -1;}#sk-container-id-3 div.sk-parallel-item {display: flex;flex-direction: column;z-index: 1;position: relative;background-color: white;}#sk-container-id-3 div.sk-parallel-item:first-child::after {align-self: flex-end;width: 50%;}#sk-container-id-3 div.sk-parallel-item:last-child::after {align-self: flex-start;width: 50%;}#sk-container-id-3 div.sk-parallel-item:only-child::after {width: 0;}#sk-container-id-3 div.sk-dashed-wrapped {border: 1px dashed gray;margin: 0 0.4em 0.5em 0.4em;box-sizing: border-box;padding-bottom: 0.4em;background-color: white;}#sk-container-id-3 div.sk-label label {font-family: monospace;font-weight: bold;display: inline-block;line-height: 1.2em;}#sk-container-id-3 div.sk-label-container {text-align: center;}#sk-container-id-3 div.sk-container {/* jupyter's `normalize.less` sets `[hidden] { display: none; }` but bootstrap.min.css set `[hidden] { display: none !important; }` so we also need the `!important` here to be able to override the default hidden behavior on the sphinx rendered scikit-learn.org. See: https://github.com/scikit-learn/scikit-learn/issues/21755 */display: inline-block !important;position: relative;}#sk-container-id-3 div.sk-text-repr-fallback {display: none;}</style><div id=\"sk-container-id-3\" class=\"sk-top-container\"><div class=\"sk-text-repr-fallback\"><pre>LogisticRegression()</pre><b>In a Jupyter environment, please rerun this cell to show the HTML representation or trust the notebook. <br />On GitHub, the HTML representation is unable to render, please try loading this page with nbviewer.org.</b></div><div class=\"sk-container\" hidden><div class=\"sk-item\"><div class=\"sk-estimator sk-toggleable\"><input class=\"sk-toggleable__control sk-hidden--visually\" id=\"sk-estimator-id-3\" type=\"checkbox\" checked><label for=\"sk-estimator-id-3\" class=\"sk-toggleable__label sk-toggleable__label-arrow\">LogisticRegression</label><div class=\"sk-toggleable__content\"><pre>LogisticRegression()</pre></div></div></div></div></div>"
            ],
            "text/plain": [
              "LogisticRegression()"
            ]
          },
          "execution_count": 50,
          "metadata": {},
          "output_type": "execute_result"
        }
      ],
      "source": [
        "from sklearn.linear_model import LogisticRegression\n",
        "log_model=LogisticRegression()\n",
        "log_model.fit(X_train,Y_train)"
      ]
    },
    {
      "cell_type": "code",
      "execution_count": null,
      "id": "8c1d17aa",
      "metadata": {
        "id": "8c1d17aa"
      },
      "outputs": [],
      "source": [
        "y_pred=log_model.predict(X_test)"
      ]
    },
    {
      "cell_type": "code",
      "execution_count": null,
      "id": "4a33a6af",
      "metadata": {
        "id": "4a33a6af",
        "outputId": "5385b450-49e7-45a6-cf73-39edff9194be"
      },
      "outputs": [
        {
          "name": "stdout",
          "output_type": "stream",
          "text": [
            "99.8032781045125\n"
          ]
        }
      ],
      "source": [
        "print(accuracy_score(Y_test.values,y_pred)*100)"
      ]
    },
    {
      "cell_type": "markdown",
      "id": "6dd33347",
      "metadata": {
        "papermill": {
          "duration": 0.015753,
          "end_time": "2024-05-19T11:16:56.553851",
          "exception": false,
          "start_time": "2024-05-19T11:16:56.538098",
          "status": "completed"
        },
        "tags": [],
        "id": "6dd33347"
      },
      "source": [
        "- Random Forest performs the best among all in terms of ACCURACY SCORES compared to the other algorithms used"
      ]
    },
    {
      "cell_type": "markdown",
      "id": "1f8e3b0c",
      "metadata": {
        "id": "1f8e3b0c"
      },
      "source": [
        "### Contribution of important Features in our case"
      ]
    },
    {
      "cell_type": "code",
      "execution_count": null,
      "id": "24bfef2d",
      "metadata": {
        "id": "24bfef2d",
        "outputId": "9a7d0d64-fd78-40e7-e59f-6eab9045abf0"
      },
      "outputs": [
        {
          "name": "stdout",
          "output_type": "stream",
          "text": [
            "              Feature  Importance\n",
            "2  Actual_amount_orig    0.425381\n",
            "3  Actual_amount_dest    0.311190\n",
            "4     TransactionPath    0.120214\n",
            "0                type    0.078074\n",
            "5    NormalizedAmount    0.063583\n",
            "1      isFlaggedFraud    0.001559\n"
          ]
        }
      ],
      "source": [
        "feature_importances = dtc.feature_importances_\n",
        "\n",
        "# Create a DataFrame to display feature importances\n",
        "feature_importance_df = pd.DataFrame({\n",
        "    'Feature': X_train.columns,\n",
        "    'Importance': feature_importances\n",
        "})\n",
        "\n",
        "# Sort features by importance\n",
        "feature_importance_df = feature_importance_df.sort_values(by='Importance', ascending=False)\n",
        "\n",
        "# Print the feature importance DataFrame\n",
        "print(feature_importance_df)"
      ]
    },
    {
      "cell_type": "markdown",
      "id": "53088e9c",
      "metadata": {
        "id": "53088e9c"
      },
      "source": [
        "As Random Forest and XGBoost algorithms are the one having accuracy scores nearby each other (almost similar), we will calculate confusion matrix of these 3 algorithms"
      ]
    },
    {
      "cell_type": "code",
      "execution_count": null,
      "id": "6134179f",
      "metadata": {
        "execution": {
          "iopub.execute_input": "2024-05-19T11:16:56.588295Z",
          "iopub.status.busy": "2024-05-19T11:16:56.587618Z",
          "iopub.status.idle": "2024-05-19T11:16:57.576595Z",
          "shell.execute_reply": "2024-05-19T11:16:57.575535Z"
        },
        "papermill": {
          "duration": 1.009002,
          "end_time": "2024-05-19T11:16:57.578955",
          "exception": false,
          "start_time": "2024-05-19T11:16:56.569953",
          "status": "completed"
        },
        "tags": [],
        "id": "6134179f",
        "outputId": "82e2e36f-4958-4be3-b06b-3db7bf2e45d9"
      },
      "outputs": [
        {
          "name": "stdout",
          "output_type": "stream",
          "text": [
            "TP,FP,TN,FN - Decision Tree\n",
            "True Positives: 1716\n",
            "False Positives: 750\n",
            "True Negatives: 1905601\n",
            "False Negatives: 719\n",
            "----------------------------------------------------------------------------------------\n",
            "TP,FP,TN,FN - Random Forest\n",
            "True Positives: 1713\n",
            "False Positives: 61\n",
            "True Negatives: 1906290\n",
            "False Negatives: 722\n",
            "----------------------------------------------------------------------------------------\n",
            "TP,FP,TN,FN - XGBoost\n",
            "True Positives: 1670\n",
            "False Positives: 43\n",
            "True Negatives: 1906308\n",
            "False Negatives: 765\n"
          ]
        }
      ],
      "source": [
        "# key terms of Confusion Matrix - DT\n",
        "\n",
        "print(\"TP,FP,TN,FN - Decision Tree\")\n",
        "tn, fp, fn, tp = confusion_matrix(Y_test, Y_pred_dt).ravel()\n",
        "print(f'True Positives: {tp}')\n",
        "print(f'False Positives: {fp}')\n",
        "print(f'True Negatives: {tn}')\n",
        "print(f'False Negatives: {fn}')\n",
        "\n",
        "print(\"----------------------------------------------------------------------------------------\")\n",
        "\n",
        "# key terms of Confusion Matrix - RF\n",
        "\n",
        "print(\"TP,FP,TN,FN - Random Forest\")\n",
        "tn, fp, fn, tp = confusion_matrix(Y_test, Y_pred_rf).ravel()\n",
        "print(f'True Positives: {tp}')\n",
        "print(f'False Positives: {fp}')\n",
        "print(f'True Negatives: {tn}')\n",
        "print(f'False Negatives: {fn}')\n",
        "\n",
        "print(\"----------------------------------------------------------------------------------------\")\n",
        "\n",
        "# key terms of Confusion Matrix - XGB\n",
        "\n",
        "print(\"TP,FP,TN,FN - XGBoost\")\n",
        "tn, fp, fn, tp = confusion_matrix(Y_test, Y_pred_xgb).ravel()\n",
        "print(f'True Positives: {tp}')\n",
        "print(f'False Positives: {fp}')\n",
        "print(f'True Negatives: {tn}')\n",
        "print(f'False Negatives: {fn}')"
      ]
    },
    {
      "cell_type": "markdown",
      "id": "f0b82943",
      "metadata": {
        "papermill": {
          "duration": 0.016592,
          "end_time": "2024-05-19T11:16:57.613373",
          "exception": false,
          "start_time": "2024-05-19T11:16:57.596781",
          "status": "completed"
        },
        "tags": [],
        "id": "f0b82943"
      },
      "source": [
        "- TP(Decision Tree) ~ TP(Random Forest) ~ TP(XGBoost) so no competetion here.\n",
        "- FP(Decision Tree) >> FP(Random Forest) >> FP(XGBoost) - XGBoost has an edge here.\n",
        "- TN(Decision Tree) < TN(Random Forest) < TN(XGBoost) - Random Forest is better here too\n",
        "- FN(Decision Tree) ~ FN(Random Forest) ~ FN(XGBoost)\n",
        "\n",
        "- XGBoost Classifier works more good in this scenario."
      ]
    },
    {
      "cell_type": "code",
      "execution_count": null,
      "id": "e3e4d1f5",
      "metadata": {
        "execution": {
          "iopub.execute_input": "2024-05-19T11:16:57.648332Z",
          "iopub.status.busy": "2024-05-19T11:16:57.647272Z",
          "iopub.status.idle": "2024-05-19T11:16:58.636263Z",
          "shell.execute_reply": "2024-05-19T11:16:58.634749Z"
        },
        "papermill": {
          "duration": 1.009134,
          "end_time": "2024-05-19T11:16:58.638792",
          "exception": false,
          "start_time": "2024-05-19T11:16:57.629658",
          "status": "completed"
        },
        "tags": [],
        "id": "e3e4d1f5",
        "outputId": "5d26fef5-0c37-4637-99a4-167d9f5f4d3b"
      },
      "outputs": [
        {
          "name": "stdout",
          "output_type": "stream",
          "text": [
            "Confusion Matrix - Decision Tree\n",
            "[[1905601     750]\n",
            " [    719    1716]]\n",
            "----------------------------------------------------------------------------------------\n",
            "Confusion Matrix - Random Forest\n",
            "[[1906290      61]\n",
            " [    722    1713]]\n",
            "----------------------------------------------------------------------------------------\n",
            "Confusion Matrix - XGBoost\n",
            "[[1906308      43]\n",
            " [    765    1670]]\n"
          ]
        }
      ],
      "source": [
        "# confusion matrix - DT\n",
        "\n",
        "confusion_matrix_dt = confusion_matrix(Y_test, Y_pred_dt.round())\n",
        "print(\"Confusion Matrix - Decision Tree\")\n",
        "print(confusion_matrix_dt,)\n",
        "\n",
        "print(\"----------------------------------------------------------------------------------------\")\n",
        "\n",
        "# confusion matrix - RF\n",
        "\n",
        "confusion_matrix_rf = confusion_matrix(Y_test, Y_pred_rf.round())\n",
        "print(\"Confusion Matrix - Random Forest\")\n",
        "print(confusion_matrix_rf)\n",
        "\n",
        "print(\"----------------------------------------------------------------------------------------\")\n",
        "\n",
        "# confusion matrix - XGB\n",
        "\n",
        "confusion_matrix_xgb = confusion_matrix(Y_test, Y_pred_xgb.round())\n",
        "print('Confusion Matrix - XGBoost')\n",
        "print(confusion_matrix_xgb)"
      ]
    },
    {
      "cell_type": "code",
      "execution_count": null,
      "id": "47dd9f94",
      "metadata": {
        "execution": {
          "iopub.execute_input": "2024-05-19T11:16:58.673429Z",
          "iopub.status.busy": "2024-05-19T11:16:58.673060Z",
          "iopub.status.idle": "2024-05-19T11:17:08.139217Z",
          "shell.execute_reply": "2024-05-19T11:17:08.138216Z"
        },
        "papermill": {
          "duration": 9.485969,
          "end_time": "2024-05-19T11:17:08.141421",
          "exception": false,
          "start_time": "2024-05-19T11:16:58.655452",
          "status": "completed"
        },
        "tags": [],
        "id": "47dd9f94",
        "outputId": "cccee0a1-28ec-4807-ad61-6c4999a2d6f5"
      },
      "outputs": [
        {
          "name": "stdout",
          "output_type": "stream",
          "text": [
            "Classification Report - Decision Tree\n",
            "              precision    recall  f1-score   support\n",
            "\n",
            "           0       1.00      1.00      1.00   1906351\n",
            "           1       0.70      0.70      0.70      2435\n",
            "\n",
            "    accuracy                           1.00   1908786\n",
            "   macro avg       0.85      0.85      0.85   1908786\n",
            "weighted avg       1.00      1.00      1.00   1908786\n",
            "\n",
            "----------------------------------------------------------------------------------------\n",
            "Classification Report - Random Forest\n",
            "              precision    recall  f1-score   support\n",
            "\n",
            "           0       1.00      1.00      1.00   1906351\n",
            "           1       0.97      0.70      0.81      2435\n",
            "\n",
            "    accuracy                           1.00   1908786\n",
            "   macro avg       0.98      0.85      0.91   1908786\n",
            "weighted avg       1.00      1.00      1.00   1908786\n",
            "\n",
            "----------------------------------------------------------------------------------------\n",
            "Classification Report - XGBoost\n",
            "              precision    recall  f1-score   support\n",
            "\n",
            "           0       1.00      1.00      1.00   1906351\n",
            "           1       0.97      0.69      0.81      2435\n",
            "\n",
            "    accuracy                           1.00   1908786\n",
            "   macro avg       0.99      0.84      0.90   1908786\n",
            "weighted avg       1.00      1.00      1.00   1908786\n",
            "\n"
          ]
        }
      ],
      "source": [
        "# classification report - DT\n",
        "\n",
        "classification_report_dt = classification_report(Y_test, Y_pred_dt)\n",
        "print(\"Classification Report - Decision Tree\")\n",
        "print(classification_report_dt)\n",
        "\n",
        "print(\"----------------------------------------------------------------------------------------\")\n",
        "\n",
        "# classification report - RF\n",
        "\n",
        "classification_report_rf = classification_report(Y_test, Y_pred_rf)\n",
        "print(\"Classification Report - Random Forest\")\n",
        "print(classification_report_rf)\n",
        "\n",
        "print(\"----------------------------------------------------------------------------------------\")\n",
        "\n",
        "# classification report - XGB\n",
        "\n",
        "classification_report_xgb = classification_report(Y_test, Y_pred_xgb)\n",
        "print(\"Classification Report - XGBoost\")\n",
        "print(classification_report_xgb)"
      ]
    },
    {
      "cell_type": "markdown",
      "id": "bedc88c0",
      "metadata": {
        "papermill": {
          "duration": 0.016139,
          "end_time": "2024-05-19T11:17:08.174335",
          "exception": false,
          "start_time": "2024-05-19T11:17:08.158196",
          "status": "completed"
        },
        "tags": [],
        "id": "bedc88c0"
      },
      "source": [
        "- With Such a good precision and hence F1-Score, XGBoost comes out to be better as expected."
      ]
    },
    {
      "cell_type": "code",
      "execution_count": null,
      "id": "565a9911",
      "metadata": {
        "execution": {
          "iopub.execute_input": "2024-05-19T11:17:08.208860Z",
          "iopub.status.busy": "2024-05-19T11:17:08.208443Z",
          "iopub.status.idle": "2024-05-19T11:17:09.077954Z",
          "shell.execute_reply": "2024-05-19T11:17:09.076868Z"
        },
        "papermill": {
          "duration": 0.889502,
          "end_time": "2024-05-19T11:17:09.080225",
          "exception": false,
          "start_time": "2024-05-19T11:17:08.190723",
          "status": "completed"
        },
        "tags": [],
        "id": "565a9911",
        "outputId": "3f4bf7ae-bbfd-451a-f5aa-78b1ded95008"
      },
      "outputs": [
        {
          "data": {
            "image/png": "[encoded data removed]",
            "text/plain": [
              "<Figure size 1000x800 with 2 Axes>"
            ]
          },
          "metadata": {},
          "output_type": "display_data"
        },
        {
          "data": {
            "image/png": "[encoded data removed]",
            "text/plain": [
              "<Figure size 1000x800 with 2 Axes>"
            ]
          },
          "metadata": {},
          "output_type": "display_data"
        },
        {
          "data": {
            "image/png": "[encoded data removed]",
            "text/plain": [
              "<Figure size 1000x800 with 2 Axes>"
            ]
          },
          "metadata": {},
          "output_type": "display_data"
        }
      ],
      "source": [
        "# visualising confusion matrix - DT\n",
        "\n",
        "disp = ConfusionMatrixDisplay(confusion_matrix=confusion_matrix_dt)\n",
        "disp.plot()\n",
        "plt.title('Confusion Matrix - DT')\n",
        "plt.show()\n",
        "\n",
        "# visualising confusion matrix - RF\n",
        "disp = ConfusionMatrixDisplay(confusion_matrix=confusion_matrix_rf)\n",
        "disp.plot()\n",
        "plt.title('Confusion Matrix - RF')\n",
        "plt.show()\n",
        "\n",
        "# visualising confusion matrix - XGB\n",
        "disp = ConfusionMatrixDisplay(confusion_matrix=confusion_matrix_xgb)\n",
        "disp.plot()\n",
        "plt.title('Confusion Matrix - XGB')\n",
        "plt.show()"
      ]
    },
    {
      "cell_type": "code",
      "execution_count": null,
      "id": "fc844b9b",
      "metadata": {
        "execution": {
          "iopub.execute_input": "2024-05-19T11:17:09.118542Z",
          "iopub.status.busy": "2024-05-19T11:17:09.117878Z",
          "iopub.status.idle": "2024-05-19T11:17:10.378726Z",
          "shell.execute_reply": "2024-05-19T11:17:10.377493Z"
        },
        "papermill": {
          "duration": 1.283278,
          "end_time": "2024-05-19T11:17:10.381828",
          "exception": false,
          "start_time": "2024-05-19T11:17:09.098550",
          "status": "completed"
        },
        "tags": [],
        "id": "fc844b9b",
        "outputId": "3f3c736f-8bb8-4e3a-b7ca-6a9e63126f19"
      },
      "outputs": [
        {
          "data": {
            "image/png": "[encoded data removed]",
            "text/plain": [
              "<Figure size 1000x800 with 1 Axes>"
            ]
          },
          "metadata": {},
          "output_type": "display_data"
        },
        {
          "data": {
            "image/png": "[encoded data removed]",
            "text/plain": [
              "<Figure size 1000x800 with 1 Axes>"
            ]
          },
          "metadata": {},
          "output_type": "display_data"
        },
        {
          "data": {
            "image/png": "[encoded data removed]",
            "text/plain": [
              "<Figure size 1000x800 with 1 Axes>"
            ]
          },
          "metadata": {},
          "output_type": "display_data"
        }
      ],
      "source": [
        "# AUC ROC - DT\n",
        "# calculate the fpr and tpr for all thresholds of the classification\n",
        "\n",
        "fpr, tpr, threshold = metrics.roc_curve(Y_test, Y_pred_dt)\n",
        "roc_auc = metrics.auc(fpr, tpr)\n",
        "\n",
        "plt.title('ROC - DT')\n",
        "plt.plot(fpr, tpr, 'b', label = 'AUC = %0.2f' % roc_auc)\n",
        "plt.legend(loc = 'lower right')\n",
        "plt.plot([0, 1], [0, 1],'r--')\n",
        "plt.xlim([0, 1])\n",
        "plt.ylim([0, 1])\n",
        "plt.ylabel('True Positive Rate')\n",
        "plt.xlabel('False Positive Rate')\n",
        "plt.show()\n",
        "\n",
        "# AUC ROC - RF\n",
        "# calculate the fpr and tpr for all thresholds of the classification\n",
        "\n",
        "fpr, tpr, threshold = metrics.roc_curve(Y_test, Y_pred_rf)\n",
        "roc_auc = metrics.auc(fpr, tpr)\n",
        "\n",
        "plt.title('ROC - RF')\n",
        "plt.plot(fpr, tpr, 'b', label = 'AUC = %0.2f' % roc_auc)\n",
        "plt.legend(loc = 'lower right')\n",
        "plt.plot([0, 1], [0, 1],'r--')\n",
        "plt.xlim([0, 1])\n",
        "plt.ylim([0, 1])\n",
        "plt.ylabel('True Positive Rate')\n",
        "plt.xlabel('False Positive Rate')\n",
        "plt.show()\n",
        "\n",
        "# AUC ROC - XGB\n",
        "# calculate the fpr and tpr for all thresholds of the classification\n",
        "\n",
        "fpr, tpr, threshold = metrics.roc_curve(Y_test, Y_pred_xgb)\n",
        "roc_auc = metrics.auc(fpr, tpr)\n",
        "\n",
        "plt.title('ROC - RF')\n",
        "plt.plot(fpr, tpr, 'b', label = 'AUC = %0.2f' % roc_auc)\n",
        "plt.legend(loc = 'lower right')\n",
        "plt.plot([0, 1], [0, 1],'r--')\n",
        "plt.xlim([0, 1])\n",
        "plt.ylim([0, 1])\n",
        "plt.ylabel('True Positive Rate')\n",
        "plt.xlabel('False Positive Rate')\n",
        "plt.show()"
      ]
    },
    {
      "cell_type": "markdown",
      "id": "d7a937c6",
      "metadata": {
        "papermill": {
          "duration": 0.020339,
          "end_time": "2024-05-19T11:17:10.423029",
          "exception": false,
          "start_time": "2024-05-19T11:17:10.402690",
          "status": "completed"
        },
        "tags": [],
        "id": "d7a937c6"
      },
      "source": [
        "- The AUC ROC for Decision Tree, Random Forest and XGBoost is equal, so all these three models are pretty good."
      ]
    },
    {
      "cell_type": "markdown",
      "id": "e1bd1817",
      "metadata": {
        "papermill": {
          "duration": 0.020595,
          "end_time": "2024-05-19T11:17:10.463906",
          "exception": false,
          "start_time": "2024-05-19T11:17:10.443311",
          "status": "completed"
        },
        "tags": [],
        "id": "e1bd1817"
      },
      "source": [
        "## <b/> Key points and Conclusion of our code:\n",
        "\n",
        "- Task overview :\n",
        "The Dataset was highly imbalanced with Legit: 6354407 and Fraud :8213\n",
        "We can balance the dataset using SMOTE Technique but this would affect the performance as we additionally increase Fraud occurences and decrease the Legit occurences to balance them. Doing this, the dataset becomes changed and loses the Originality.\n",
        "\n",
        "\n",
        "\n",
        "###### - Importing Libraries\n",
        "###### - Loading the Dataset\n",
        "###### - Data Preprocessing\n",
        "###### - Check for Outliers\n",
        "###### - Visualizing Fraud versus No Fraud Events\n",
        "###### - Visualizing isFlaggedFraud Events\n",
        "###### - EDA – Exploratory Data Analysis\n",
        "###### - Visualizations\n",
        "###### - Feature Engineering\n",
        "###### - Label Encoding\n",
        "###### - Checking Multi collinearity between variables and calculating variation inflation factor (VIF)\n",
        "###### - Scaling the data (Normalization)\n",
        "###### - Splitting the data\n",
        "###### - Model Training\n",
        "###### - <b><font color='purple'>   I have used various algorithms to check for the best results. The algorithms used were: </font> </b>\n",
        "###### 1)\tDecision Tree\n",
        "###### 2)\tRandom Forest Classifier\n",
        "###### 3)\tXG Boost Classifier\n",
        "###### 4)\tNaïve Bayes\n",
        "###### 5)\tSupport Vector Machine\n",
        "###### 6)\tLogistic Regression\n",
        "\n",
        "I tried stacking but it took a huge amount of time to get trained as the dataset and number of parameters were high which seemed impossible to execute stacking.\n",
        "\n",
        "\n",
        "We have observed that while XGBoost has greater precision,\n",
        "Random Forest, Decision Tree, and XGBoost all have equal accuracy. Precision is crucial in a fraud detection model since we want to know about fraudulent transactions so that they can be accurately predicted and legitimate transactions can be excluded, as opposed to correctly predicting regular transactions.\n",
        "\n",
        "This is also one of the reasons ensemble approaches are employed rather than alternative methods.\n",
        "\n",
        "\n",
        "By iteratively merging the predictions of several different models, frequently decision trees, XGBoost creates a predictive model.\n",
        "\n",
        "\n",
        "\n"
      ]
    },
    {
      "cell_type": "markdown",
      "id": "0fce0961",
      "metadata": {
        "id": "0fce0961"
      },
      "source": [
        "<b><font color='purple'>   1. Data cleaning including missing values, outliers and multi-collinearity. </b> </font>\n",
        "\n",
        "\n",
        "\n",
        "- I started the data cleaning procedure by carefully looking for any missing values. If I find any, I remove the rows that have the necessary data missing.\n",
        "But the dataset didn't have any missing values.\n",
        "- After that, checked for outliers from various features such as : 'step','amount', 'oldbalanceOrg', 'newbalanceOrig', 'oldbalanceDest', 'newbalanceDest'.\n",
        "\n",
        "- Furthermore, I evaluated the correlation across various columns, resulting in the elimination of highly correlated variables and merging them into one. To reduce the dimensionality and complexity of our model. The dataset will be more suited for subsequent procedures as a result.\n",
        "- There was high corelation between\n",
        "1) oldbalanceOrg and newbalanceOrig (Scores are mostly similar =  576 and 582)\n",
        "2) oldbalanceDest and newbalanceDest ( Scores = 73 and 85)  \n",
        "\n",
        "- So we can combine these pairs of collinear attributes and drop the individual ones to reduce the complexity of the model."
      ]
    },
    {
      "cell_type": "markdown",
      "id": "dd92da25",
      "metadata": {
        "id": "dd92da25"
      },
      "source": [
        "<b><font color='purple'>   2. Describe your fraud detection model in elaboration. </b> </font>\n",
        "\n",
        "\n",
        "\n",
        "I have used various algorithms to check for the best results. The algorithms used were:\n",
        "###### 1)\tDecision Tree\n",
        "###### 2)\tRandom Forest Classifier\n",
        "###### 3)\tXG Boost Classifier\n",
        "###### 4)\tNaïve Bayes\n",
        "###### 5)\tSupport Vector Machine\n",
        "###### 6)\tLogistic Regression\n",
        "\n",
        "Among all six algorithms, Random Forest Classifier performed best in terms of accuracy, while XG Boost Classifier performed best in terms of precision"
      ]
    },
    {
      "cell_type": "markdown",
      "id": "5b26d73c",
      "metadata": {
        "id": "5b26d73c"
      },
      "source": [
        "<b><font color='purple'>  3. How did you select variables to be included in the model? </b> </font>\n",
        "\n",
        "There are various methods to select the set of variables but I chose Correlations. It helped me select the variables. Additionally, I have chosen a few key factors on my own, such as type, amount, etc.\n"
      ]
    },
    {
      "cell_type": "markdown",
      "id": "55a4fd03",
      "metadata": {
        "id": "55a4fd03"
      },
      "source": [
        "<b><font color='purple'>   4 . Demonstrate the performance of the model by using best set of tools.\n",
        " </b> </font>\n",
        "\n",
        " To check the performance of our machine learning models, we made use of :\n",
        "- Confusion matrix\n",
        "- Accuracy\n",
        "- Precision\n",
        "- Recall\n",
        "- F1 score\n",
        "- ROC (Receiver Operating Characteristics) curve\n",
        "\n",
        "Best Accuracy Scores\n",
        "-- Random Forest had the highest accuracy among tested models.\n",
        "\n",
        "- Random Forest Score:  99.95897916267198\n",
        "- XGBoost Score      :  99.95766942967938\n"
      ]
    },
    {
      "cell_type": "markdown",
      "id": "3bb8f8ce",
      "metadata": {
        "papermill": {
          "duration": 0.020792,
          "end_time": "2024-05-19T11:17:10.505697",
          "exception": false,
          "start_time": "2024-05-19T11:17:10.484905",
          "status": "completed"
        },
        "tags": [],
        "id": "3bb8f8ce"
      },
      "source": [
        "<b><font color='purple'> 5.  What are the key factors that predict fraudulent customer? </b> </font>\n",
        "\n",
        "The key factors in predicting fraudelent transactions are balanceChangeOrig, balanceChangeDest, step, type_TRANSFER, nameOrig, nameDest, amount, type_CASH_OUT, isFlaggedFraud, and type_PAYMENT.\n",
        "\n",
        "According to me, the key factors that predict fraudulent customer from the DATASET are :\n",
        "\n",
        "- Actual_amount_orig , Actual_amount_dest,TransactionPath, type, NormalizedAmount, isFlaggedFraud\n",
        "\n",
        "\n",
        "\n",
        "Otherwise for some different general scenario, Listed below are important ones :\n",
        "\n",
        "- Transaction type.\n",
        "- Whether the source of payment request is secured or not?\n",
        "- Is the receiver organization is legitimate or not?\n",
        "- Transaction amount.\n",
        "- Changes in balances.\n"
      ]
    },
    {
      "cell_type": "markdown",
      "id": "f5baa971",
      "metadata": {
        "papermill": {
          "duration": 0.020554,
          "end_time": "2024-05-19T11:17:10.546846",
          "exception": false,
          "start_time": "2024-05-19T11:17:10.526292",
          "status": "completed"
        },
        "tags": [],
        "id": "f5baa971"
      },
      "source": [
        "<b><font color='purple'> 6.  Do These Factors Make Sense? If Yes, How? If Not, How Not? </b> </font>\n",
        "\n",
        "These factors make sense in the context of fraud detection for several reasons:  \n",
        "\n",
        "  Transaction path: The transaction path refers to the sequence and nature of transactions and interactions that a customer performs, which can reveal patterns indicative of fraud.\n",
        "  \n",
        "  Amount: Unusually high transaction amounts can suggest fraud. 'isFlaggedFraud' flag indicates that the transaction was flagged as potentially fraudulent. 'type_PAYMENT' feature's lower importance suggests that regular payment transactions have less predictive power for fraud detection.\n",
        "\n",
        "Yes, these factors make sense:\n",
        "- Transaction Amount: Transactions with amounts that deviate significantly from the customer's typical spending pattern.\n",
        "\n",
        "- Transaction Type: Certain transaction types might be more prone to fraud (e.g., high value transactions, recurring transactions , international transfers).\n",
        "\n",
        "- Change in Balance : Significant or unusual changes in a customer's account balance can be indicative of fraudulent behavior."
      ]
    },
    {
      "cell_type": "markdown",
      "id": "d72764f0",
      "metadata": {
        "papermill": {
          "duration": 0.019926,
          "end_time": "2024-05-19T11:17:10.587564",
          "exception": false,
          "start_time": "2024-05-19T11:17:10.567638",
          "status": "completed"
        },
        "tags": [],
        "id": "d72764f0"
      },
      "source": [
        "<b><font color='purple'> 7 . What Kind of Prevention Should Be Adopted While Company Update Its Infrastructure? </b> </font>\n",
        "\n",
        "- Network Security\n",
        "- Strong Authentication and Authorization - Mechanisms\n",
        "- Data Encryption\n",
        "- Secure Configuration Management\n",
        "- Least Privilege Principle and Multi-Factor Authentication (MFA)\n",
        "- Regular Audits and Compliance Checks\n"
      ]
    },
    {
      "cell_type": "markdown",
      "id": "9a170ee8",
      "metadata": {
        "papermill": {
          "duration": 0.020124,
          "end_time": "2024-05-19T11:17:10.627969",
          "exception": false,
          "start_time": "2024-05-19T11:17:10.607845",
          "status": "completed"
        },
        "tags": [],
        "id": "9a170ee8"
      },
      "source": [
        "<b><font color='purple'>8.  Assuming These Actions Have Been Implemented, How Would You Determine If They Work? </b> </font>\n",
        "\n",
        "\n",
        "Here are some steps to ensure the measures are working:\n",
        "\n",
        "\n",
        "- Regular Audits and Assessments : Conduct periodic internal and external audits for the assessments and idetification of vulnerabilities\n",
        "- Performance Metrics: Monitor the accuracy of fraud detection systems by tracking false positives (legitimate transactions flagged as fraud) and false negatives (fraudulent transactions not flagged).\n",
        "- Track Fraud Rates: Keep tabs on the rates of fraud both prior to and during implementation.\n",
        "- User Input: Learn what the public thinks about the new security protocols.\n"
      ]
    },
    {
      "cell_type": "markdown",
      "id": "ec796f7b",
      "metadata": {
        "papermill": {
          "duration": 0.020062,
          "end_time": "2024-05-19T11:17:10.669659",
          "exception": false,
          "start_time": "2024-05-19T11:17:10.649597",
          "status": "completed"
        },
        "tags": [],
        "id": "ec796f7b"
      },
      "source": [
        "--------"
      ]
    }
  ],
  "metadata": {
    "kaggle": {
      "accelerator": "none",
      "dataSources": [
        {
          "datasetId": 1964310,
          "sourceId": 3240868,
          "sourceType": "datasetVersion"
        }
      ],
      "dockerImageVersionId": 30698,
      "isGpuEnabled": false,
      "isInternetEnabled": true,
      "language": "python",
      "sourceType": "notebook"
    },
    "kernelspec": {
      "display_name": "Python 3",
      "language": "python",
      "name": "python3"
    },
    "language_info": {
      "codemirror_mode": {
        "name": "ipython",
        "version": 3
      },
      "file_extension": ".py",
      "mimetype": "text/x-python",
      "name": "python",
      "nbconvert_exporter": "python",
      "pygments_lexer": "ipython3",
      "version": "3.11.3"
    },
    "papermill": {
      "default_parameters": {},
      "duration": 2331.927082,
      "end_time": "2024-05-19T11:17:12.019247",
      "environment_variables": {},
      "exception": null,
      "input_path": "__notebook__.ipynb",
      "output_path": "__notebook__.ipynb",
      "parameters": {},
      "start_time": "2024-05-19T10:38:20.092165",
      "version": "2.5.0"
    },
    "colab": {
      "provenance": [],
      "include_colab_link": true
    }
  },
  "nbformat": 4,
  "nbformat_minor": 5
}