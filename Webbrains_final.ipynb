{
  "cells": [
    {
      "cell_type": "markdown",
      "metadata": {
        "id": "view-in-github",
        "colab_type": "text"
      },
      "source": [
        "<a href=\"https://colab.research.google.com/github/khushbu-shah2928/khushbu-shah2928/blob/main/Webbrains_final.ipynb\" target=\"_parent\"><img src=\"https://colab.research.google.com/assets/colab-badge.svg\" alt=\"Open In Colab\"/></a>"
      ]
    },
    {
      "cell_type": "code",
      "execution_count": 42,
      "metadata": {
        "colab": {
          "base_uri": "https://localhost:8080/"
        },
        "id": "qHLTJO2wRAYI",
        "outputId": "9cedc9b3-7c14-43d2-a52f-25b7326b265a"
      },
      "outputs": [
        {
          "output_type": "stream",
          "name": "stdout",
          "text": [
            "Requirement already satisfied: langchain in /usr/local/lib/python3.11/dist-packages (0.3.21)\n",
            "Requirement already satisfied: langchain-core<1.0.0,>=0.3.45 in /usr/local/lib/python3.11/dist-packages (from langchain) (0.3.45)\n",
            "Requirement already satisfied: langchain-text-splitters<1.0.0,>=0.3.7 in /usr/local/lib/python3.11/dist-packages (from langchain) (0.3.7)\n",
            "Requirement already satisfied: langsmith<0.4,>=0.1.17 in /usr/local/lib/python3.11/dist-packages (from langchain) (0.3.15)\n",
            "Requirement already satisfied: pydantic<3.0.0,>=2.7.4 in /usr/local/lib/python3.11/dist-packages (from langchain) (2.10.6)\n",
            "Requirement already satisfied: SQLAlchemy<3,>=1.4 in /usr/local/lib/python3.11/dist-packages (from langchain) (2.0.39)\n",
            "Requirement already satisfied: requests<3,>=2 in /usr/local/lib/python3.11/dist-packages (from langchain) (2.32.3)\n",
            "Requirement already satisfied: PyYAML>=5.3 in /usr/local/lib/python3.11/dist-packages (from langchain) (6.0.2)\n",
            "Requirement already satisfied: tenacity!=8.4.0,<10.0.0,>=8.1.0 in /usr/local/lib/python3.11/dist-packages (from langchain-core<1.0.0,>=0.3.45->langchain) (9.0.0)\n",
            "Requirement already satisfied: jsonpatch<2.0,>=1.33 in /usr/local/lib/python3.11/dist-packages (from langchain-core<1.0.0,>=0.3.45->langchain) (1.33)\n",
            "Requirement already satisfied: packaging<25,>=23.2 in /usr/local/lib/python3.11/dist-packages (from langchain-core<1.0.0,>=0.3.45->langchain) (24.2)\n",
            "Requirement already satisfied: typing-extensions>=4.7 in /usr/local/lib/python3.11/dist-packages (from langchain-core<1.0.0,>=0.3.45->langchain) (4.12.2)\n",
            "Requirement already satisfied: httpx<1,>=0.23.0 in /usr/local/lib/python3.11/dist-packages (from langsmith<0.4,>=0.1.17->langchain) (0.28.1)\n",
            "Requirement already satisfied: orjson<4.0.0,>=3.9.14 in /usr/local/lib/python3.11/dist-packages (from langsmith<0.4,>=0.1.17->langchain) (3.10.15)\n",
            "Requirement already satisfied: requests-toolbelt<2.0.0,>=1.0.0 in /usr/local/lib/python3.11/dist-packages (from langsmith<0.4,>=0.1.17->langchain) (1.0.0)\n",
            "Requirement already satisfied: zstandard<0.24.0,>=0.23.0 in /usr/local/lib/python3.11/dist-packages (from langsmith<0.4,>=0.1.17->langchain) (0.23.0)\n",
            "Requirement already satisfied: annotated-types>=0.6.0 in /usr/local/lib/python3.11/dist-packages (from pydantic<3.0.0,>=2.7.4->langchain) (0.7.0)\n",
            "Requirement already satisfied: pydantic-core==2.27.2 in /usr/local/lib/python3.11/dist-packages (from pydantic<3.0.0,>=2.7.4->langchain) (2.27.2)\n",
            "Requirement already satisfied: charset-normalizer<4,>=2 in /usr/local/lib/python3.11/dist-packages (from requests<3,>=2->langchain) (3.4.1)\n",
            "Requirement already satisfied: idna<4,>=2.5 in /usr/local/lib/python3.11/dist-packages (from requests<3,>=2->langchain) (3.10)\n",
            "Requirement already satisfied: urllib3<3,>=1.21.1 in /usr/local/lib/python3.11/dist-packages (from requests<3,>=2->langchain) (2.3.0)\n",
            "Requirement already satisfied: certifi>=2017.4.17 in /usr/local/lib/python3.11/dist-packages (from requests<3,>=2->langchain) (2025.1.31)\n",
            "Requirement already satisfied: greenlet!=0.4.17 in /usr/local/lib/python3.11/dist-packages (from SQLAlchemy<3,>=1.4->langchain) (3.1.1)\n",
            "Requirement already satisfied: anyio in /usr/local/lib/python3.11/dist-packages (from httpx<1,>=0.23.0->langsmith<0.4,>=0.1.17->langchain) (4.9.0)\n",
            "Requirement already satisfied: httpcore==1.* in /usr/local/lib/python3.11/dist-packages (from httpx<1,>=0.23.0->langsmith<0.4,>=0.1.17->langchain) (1.0.7)\n",
            "Requirement already satisfied: h11<0.15,>=0.13 in /usr/local/lib/python3.11/dist-packages (from httpcore==1.*->httpx<1,>=0.23.0->langsmith<0.4,>=0.1.17->langchain) (0.14.0)\n",
            "Requirement already satisfied: jsonpointer>=1.9 in /usr/local/lib/python3.11/dist-packages (from jsonpatch<2.0,>=1.33->langchain-core<1.0.0,>=0.3.45->langchain) (3.0.0)\n",
            "Requirement already satisfied: sniffio>=1.1 in /usr/local/lib/python3.11/dist-packages (from anyio->httpx<1,>=0.23.0->langsmith<0.4,>=0.1.17->langchain) (1.3.1)\n"
          ]
        }
      ],
      "source": [
        "\n",
        "pip install langchain\n"
      ]
    },
    {
      "cell_type": "code",
      "execution_count": 44,
      "metadata": {
        "colab": {
          "base_uri": "https://localhost:8080/"
        },
        "id": "Ch5f3fYbRccM",
        "outputId": "f17b8fa9-5b3d-403d-8496-aa452230b5da"
      },
      "outputs": [
        {
          "output_type": "stream",
          "name": "stdout",
          "text": [
            "Requirement already satisfied: langgraph in /usr/local/lib/python3.11/dist-packages (0.3.18)\n",
            "Requirement already satisfied: langchain-core<0.4,>=0.1 in /usr/local/lib/python3.11/dist-packages (from langgraph) (0.3.45)\n",
            "Requirement already satisfied: langgraph-checkpoint<3.0.0,>=2.0.10 in /usr/local/lib/python3.11/dist-packages (from langgraph) (2.0.21)\n",
            "Requirement already satisfied: langgraph-prebuilt<0.2,>=0.1.1 in /usr/local/lib/python3.11/dist-packages (from langgraph) (0.1.3)\n",
            "Requirement already satisfied: langgraph-sdk<0.2.0,>=0.1.42 in /usr/local/lib/python3.11/dist-packages (from langgraph) (0.1.58)\n",
            "Requirement already satisfied: langsmith<0.4,>=0.1.125 in /usr/local/lib/python3.11/dist-packages (from langchain-core<0.4,>=0.1->langgraph) (0.3.15)\n",
            "Requirement already satisfied: tenacity!=8.4.0,<10.0.0,>=8.1.0 in /usr/local/lib/python3.11/dist-packages (from langchain-core<0.4,>=0.1->langgraph) (9.0.0)\n",
            "Requirement already satisfied: jsonpatch<2.0,>=1.33 in /usr/local/lib/python3.11/dist-packages (from langchain-core<0.4,>=0.1->langgraph) (1.33)\n",
            "Requirement already satisfied: PyYAML>=5.3 in /usr/local/lib/python3.11/dist-packages (from langchain-core<0.4,>=0.1->langgraph) (6.0.2)\n",
            "Requirement already satisfied: packaging<25,>=23.2 in /usr/local/lib/python3.11/dist-packages (from langchain-core<0.4,>=0.1->langgraph) (24.2)\n",
            "Requirement already satisfied: typing-extensions>=4.7 in /usr/local/lib/python3.11/dist-packages (from langchain-core<0.4,>=0.1->langgraph) (4.12.2)\n",
            "Requirement already satisfied: pydantic<3.0.0,>=2.5.2 in /usr/local/lib/python3.11/dist-packages (from langchain-core<0.4,>=0.1->langgraph) (2.10.6)\n",
            "Requirement already satisfied: msgpack<2.0.0,>=1.1.0 in /usr/local/lib/python3.11/dist-packages (from langgraph-checkpoint<3.0.0,>=2.0.10->langgraph) (1.1.0)\n",
            "Requirement already satisfied: httpx>=0.25.2 in /usr/local/lib/python3.11/dist-packages (from langgraph-sdk<0.2.0,>=0.1.42->langgraph) (0.28.1)\n",
            "Requirement already satisfied: orjson>=3.10.1 in /usr/local/lib/python3.11/dist-packages (from langgraph-sdk<0.2.0,>=0.1.42->langgraph) (3.10.15)\n",
            "Requirement already satisfied: anyio in /usr/local/lib/python3.11/dist-packages (from httpx>=0.25.2->langgraph-sdk<0.2.0,>=0.1.42->langgraph) (4.9.0)\n",
            "Requirement already satisfied: certifi in /usr/local/lib/python3.11/dist-packages (from httpx>=0.25.2->langgraph-sdk<0.2.0,>=0.1.42->langgraph) (2025.1.31)\n",
            "Requirement already satisfied: httpcore==1.* in /usr/local/lib/python3.11/dist-packages (from httpx>=0.25.2->langgraph-sdk<0.2.0,>=0.1.42->langgraph) (1.0.7)\n",
            "Requirement already satisfied: idna in /usr/local/lib/python3.11/dist-packages (from httpx>=0.25.2->langgraph-sdk<0.2.0,>=0.1.42->langgraph) (3.10)\n",
            "Requirement already satisfied: h11<0.15,>=0.13 in /usr/local/lib/python3.11/dist-packages (from httpcore==1.*->httpx>=0.25.2->langgraph-sdk<0.2.0,>=0.1.42->langgraph) (0.14.0)\n",
            "Requirement already satisfied: jsonpointer>=1.9 in /usr/local/lib/python3.11/dist-packages (from jsonpatch<2.0,>=1.33->langchain-core<0.4,>=0.1->langgraph) (3.0.0)\n",
            "Requirement already satisfied: requests<3,>=2 in /usr/local/lib/python3.11/dist-packages (from langsmith<0.4,>=0.1.125->langchain-core<0.4,>=0.1->langgraph) (2.32.3)\n",
            "Requirement already satisfied: requests-toolbelt<2.0.0,>=1.0.0 in /usr/local/lib/python3.11/dist-packages (from langsmith<0.4,>=0.1.125->langchain-core<0.4,>=0.1->langgraph) (1.0.0)\n",
            "Requirement already satisfied: zstandard<0.24.0,>=0.23.0 in /usr/local/lib/python3.11/dist-packages (from langsmith<0.4,>=0.1.125->langchain-core<0.4,>=0.1->langgraph) (0.23.0)\n",
            "Requirement already satisfied: annotated-types>=0.6.0 in /usr/local/lib/python3.11/dist-packages (from pydantic<3.0.0,>=2.5.2->langchain-core<0.4,>=0.1->langgraph) (0.7.0)\n",
            "Requirement already satisfied: pydantic-core==2.27.2 in /usr/local/lib/python3.11/dist-packages (from pydantic<3.0.0,>=2.5.2->langchain-core<0.4,>=0.1->langgraph) (2.27.2)\n",
            "Requirement already satisfied: charset-normalizer<4,>=2 in /usr/local/lib/python3.11/dist-packages (from requests<3,>=2->langsmith<0.4,>=0.1.125->langchain-core<0.4,>=0.1->langgraph) (3.4.1)\n",
            "Requirement already satisfied: urllib3<3,>=1.21.1 in /usr/local/lib/python3.11/dist-packages (from requests<3,>=2->langsmith<0.4,>=0.1.125->langchain-core<0.4,>=0.1->langgraph) (2.3.0)\n",
            "Requirement already satisfied: sniffio>=1.1 in /usr/local/lib/python3.11/dist-packages (from anyio->httpx>=0.25.2->langgraph-sdk<0.2.0,>=0.1.42->langgraph) (1.3.1)\n"
          ]
        }
      ],
      "source": [
        "pip install langgraph"
      ]
    },
    {
      "cell_type": "code",
      "execution_count": 45,
      "metadata": {
        "colab": {
          "base_uri": "https://localhost:8080/"
        },
        "id": "MULXE9c8RjCO",
        "outputId": "fc93b4c4-9b77-4360-9db8-ce2cd7dd6afd"
      },
      "outputs": [
        {
          "output_type": "stream",
          "name": "stdout",
          "text": [
            "Requirement already satisfied: langchain_community in /usr/local/lib/python3.11/dist-packages (0.3.20)\n",
            "Requirement already satisfied: langchain-core<1.0.0,>=0.3.45 in /usr/local/lib/python3.11/dist-packages (from langchain_community) (0.3.45)\n",
            "Requirement already satisfied: langchain<1.0.0,>=0.3.21 in /usr/local/lib/python3.11/dist-packages (from langchain_community) (0.3.21)\n",
            "Requirement already satisfied: SQLAlchemy<3,>=1.4 in /usr/local/lib/python3.11/dist-packages (from langchain_community) (2.0.39)\n",
            "Requirement already satisfied: requests<3,>=2 in /usr/local/lib/python3.11/dist-packages (from langchain_community) (2.32.3)\n",
            "Requirement already satisfied: PyYAML>=5.3 in /usr/local/lib/python3.11/dist-packages (from langchain_community) (6.0.2)\n",
            "Requirement already satisfied: aiohttp<4.0.0,>=3.8.3 in /usr/local/lib/python3.11/dist-packages (from langchain_community) (3.11.14)\n",
            "Requirement already satisfied: tenacity!=8.4.0,<10,>=8.1.0 in /usr/local/lib/python3.11/dist-packages (from langchain_community) (9.0.0)\n",
            "Requirement already satisfied: dataclasses-json<0.7,>=0.5.7 in /usr/local/lib/python3.11/dist-packages (from langchain_community) (0.6.7)\n",
            "Requirement already satisfied: pydantic-settings<3.0.0,>=2.4.0 in /usr/local/lib/python3.11/dist-packages (from langchain_community) (2.8.1)\n",
            "Requirement already satisfied: langsmith<0.4,>=0.1.125 in /usr/local/lib/python3.11/dist-packages (from langchain_community) (0.3.15)\n",
            "Requirement already satisfied: httpx-sse<1.0.0,>=0.4.0 in /usr/local/lib/python3.11/dist-packages (from langchain_community) (0.4.0)\n",
            "Requirement already satisfied: numpy<3,>=1.26.2 in /usr/local/lib/python3.11/dist-packages (from langchain_community) (2.0.2)\n",
            "Requirement already satisfied: aiohappyeyeballs>=2.3.0 in /usr/local/lib/python3.11/dist-packages (from aiohttp<4.0.0,>=3.8.3->langchain_community) (2.6.1)\n",
            "Requirement already satisfied: aiosignal>=1.1.2 in /usr/local/lib/python3.11/dist-packages (from aiohttp<4.0.0,>=3.8.3->langchain_community) (1.3.2)\n",
            "Requirement already satisfied: attrs>=17.3.0 in /usr/local/lib/python3.11/dist-packages (from aiohttp<4.0.0,>=3.8.3->langchain_community) (25.3.0)\n",
            "Requirement already satisfied: frozenlist>=1.1.1 in /usr/local/lib/python3.11/dist-packages (from aiohttp<4.0.0,>=3.8.3->langchain_community) (1.5.0)\n",
            "Requirement already satisfied: multidict<7.0,>=4.5 in /usr/local/lib/python3.11/dist-packages (from aiohttp<4.0.0,>=3.8.3->langchain_community) (6.2.0)\n",
            "Requirement already satisfied: propcache>=0.2.0 in /usr/local/lib/python3.11/dist-packages (from aiohttp<4.0.0,>=3.8.3->langchain_community) (0.3.0)\n",
            "Requirement already satisfied: yarl<2.0,>=1.17.0 in /usr/local/lib/python3.11/dist-packages (from aiohttp<4.0.0,>=3.8.3->langchain_community) (1.18.3)\n",
            "Requirement already satisfied: marshmallow<4.0.0,>=3.18.0 in /usr/local/lib/python3.11/dist-packages (from dataclasses-json<0.7,>=0.5.7->langchain_community) (3.26.1)\n",
            "Requirement already satisfied: typing-inspect<1,>=0.4.0 in /usr/local/lib/python3.11/dist-packages (from dataclasses-json<0.7,>=0.5.7->langchain_community) (0.9.0)\n",
            "Requirement already satisfied: langchain-text-splitters<1.0.0,>=0.3.7 in /usr/local/lib/python3.11/dist-packages (from langchain<1.0.0,>=0.3.21->langchain_community) (0.3.7)\n",
            "Requirement already satisfied: pydantic<3.0.0,>=2.7.4 in /usr/local/lib/python3.11/dist-packages (from langchain<1.0.0,>=0.3.21->langchain_community) (2.10.6)\n",
            "Requirement already satisfied: jsonpatch<2.0,>=1.33 in /usr/local/lib/python3.11/dist-packages (from langchain-core<1.0.0,>=0.3.45->langchain_community) (1.33)\n",
            "Requirement already satisfied: packaging<25,>=23.2 in /usr/local/lib/python3.11/dist-packages (from langchain-core<1.0.0,>=0.3.45->langchain_community) (24.2)\n",
            "Requirement already satisfied: typing-extensions>=4.7 in /usr/local/lib/python3.11/dist-packages (from langchain-core<1.0.0,>=0.3.45->langchain_community) (4.12.2)\n",
            "Requirement already satisfied: httpx<1,>=0.23.0 in /usr/local/lib/python3.11/dist-packages (from langsmith<0.4,>=0.1.125->langchain_community) (0.28.1)\n",
            "Requirement already satisfied: orjson<4.0.0,>=3.9.14 in /usr/local/lib/python3.11/dist-packages (from langsmith<0.4,>=0.1.125->langchain_community) (3.10.15)\n",
            "Requirement already satisfied: requests-toolbelt<2.0.0,>=1.0.0 in /usr/local/lib/python3.11/dist-packages (from langsmith<0.4,>=0.1.125->langchain_community) (1.0.0)\n",
            "Requirement already satisfied: zstandard<0.24.0,>=0.23.0 in /usr/local/lib/python3.11/dist-packages (from langsmith<0.4,>=0.1.125->langchain_community) (0.23.0)\n",
            "Requirement already satisfied: python-dotenv>=0.21.0 in /usr/local/lib/python3.11/dist-packages (from pydantic-settings<3.0.0,>=2.4.0->langchain_community) (1.0.1)\n",
            "Requirement already satisfied: charset-normalizer<4,>=2 in /usr/local/lib/python3.11/dist-packages (from requests<3,>=2->langchain_community) (3.4.1)\n",
            "Requirement already satisfied: idna<4,>=2.5 in /usr/local/lib/python3.11/dist-packages (from requests<3,>=2->langchain_community) (3.10)\n",
            "Requirement already satisfied: urllib3<3,>=1.21.1 in /usr/local/lib/python3.11/dist-packages (from requests<3,>=2->langchain_community) (2.3.0)\n",
            "Requirement already satisfied: certifi>=2017.4.17 in /usr/local/lib/python3.11/dist-packages (from requests<3,>=2->langchain_community) (2025.1.31)\n",
            "Requirement already satisfied: greenlet!=0.4.17 in /usr/local/lib/python3.11/dist-packages (from SQLAlchemy<3,>=1.4->langchain_community) (3.1.1)\n",
            "Requirement already satisfied: anyio in /usr/local/lib/python3.11/dist-packages (from httpx<1,>=0.23.0->langsmith<0.4,>=0.1.125->langchain_community) (4.9.0)\n",
            "Requirement already satisfied: httpcore==1.* in /usr/local/lib/python3.11/dist-packages (from httpx<1,>=0.23.0->langsmith<0.4,>=0.1.125->langchain_community) (1.0.7)\n",
            "Requirement already satisfied: h11<0.15,>=0.13 in /usr/local/lib/python3.11/dist-packages (from httpcore==1.*->httpx<1,>=0.23.0->langsmith<0.4,>=0.1.125->langchain_community) (0.14.0)\n",
            "Requirement already satisfied: jsonpointer>=1.9 in /usr/local/lib/python3.11/dist-packages (from jsonpatch<2.0,>=1.33->langchain-core<1.0.0,>=0.3.45->langchain_community) (3.0.0)\n",
            "Requirement already satisfied: annotated-types>=0.6.0 in /usr/local/lib/python3.11/dist-packages (from pydantic<3.0.0,>=2.7.4->langchain<1.0.0,>=0.3.21->langchain_community) (0.7.0)\n",
            "Requirement already satisfied: pydantic-core==2.27.2 in /usr/local/lib/python3.11/dist-packages (from pydantic<3.0.0,>=2.7.4->langchain<1.0.0,>=0.3.21->langchain_community) (2.27.2)\n",
            "Requirement already satisfied: mypy-extensions>=0.3.0 in /usr/local/lib/python3.11/dist-packages (from typing-inspect<1,>=0.4.0->dataclasses-json<0.7,>=0.5.7->langchain_community) (1.0.0)\n",
            "Requirement already satisfied: sniffio>=1.1 in /usr/local/lib/python3.11/dist-packages (from anyio->httpx<1,>=0.23.0->langsmith<0.4,>=0.1.125->langchain_community) (1.3.1)\n"
          ]
        }
      ],
      "source": [
        "pip install langchain_community"
      ]
    },
    {
      "cell_type": "code",
      "execution_count": 51,
      "metadata": {
        "colab": {
          "base_uri": "https://localhost:8080/"
        },
        "id": "2CkH0PA-Rndf",
        "outputId": "475d8291-76bd-4f23-ca2e-21aa1a77a55a"
      },
      "outputs": [
        {
          "output_type": "stream",
          "name": "stderr",
          "text": [
            "Device set to use cpu\n"
          ]
        },
        {
          "name": "stdout",
          "output_type": "stream",
          "text": [
            "\n",
            "--- Run 1 ---\n",
            "Welcome! Let's plan your trip.\n",
            "What's your budget? (Low/Medium/High): medium\n",
            "What are your interests? (Adventure/Relaxation/Culture/Food): culture\n",
            "Which season are you planning to travel? (Spring/Summer/Fall/Winter): summer\n",
            "Preferences captured: {'budget': 'medium', 'interests': 'culture', 'season': 'summer'}\n",
            "Matching preferences: {'budget': 'medium', 'interests': 'culture', 'season': 'summer'}\n",
            "Matching destinations: [{'name': 'Bali', 'country': 'Indonesia', 'tags': ['adventure', 'relaxation', 'culture'], 'budget_level': 'medium', 'ideal_duration': [5, 10], 'best_seasons': ['summer', 'fall']}]\n",
            "Based on your preferences, we suggest: Bali\n",
            "Here is your itinerary:\n",
            "Day 1: Explore Bali's famous attractions.\n",
            "Day 2: Enjoy local cuisine.\n",
            "Day 3: Relax and shop.\n",
            "Do you have any questions about your trip? (Yes/No): no\n",
            "\n",
            "--- Run 2 ---\n",
            "Welcome! Let's plan your trip.\n",
            "What's your budget? (Low/Medium/High): high\n",
            "What are your interests? (Adventure/Relaxation/Culture/Food): food\n",
            "Which season are you planning to travel? (Spring/Summer/Fall/Winter): spring\n",
            "Preferences captured: {'budget': 'high', 'interests': 'food', 'season': 'spring'}\n",
            "Matching preferences: {'budget': 'high', 'interests': 'food', 'season': 'spring'}\n",
            "Matching destinations: [{'name': 'Paris', 'country': 'France', 'tags': ['romantic', 'culture', 'food'], 'budget_level': 'high', 'ideal_duration': [3, 7], 'best_seasons': ['spring', 'fall']}]\n",
            "Based on your preferences, we suggest: Paris\n",
            "Here is your itinerary:\n",
            "Day 1: Explore Paris's famous attractions.\n",
            "Day 2: Enjoy local cuisine.\n",
            "Day 3: Relax and shop.\n",
            "Do you have any questions about your trip? (Yes/No): yes\n",
            "Ask your question: What is the budget for paris\n"
          ]
        },
        {
          "output_type": "stream",
          "name": "stderr",
          "text": [
            "Setting `pad_token_id` to `eos_token_id`:50256 for open-end generation.\n"
          ]
        },
        {
          "name": "stdout",
          "output_type": "stream",
          "text": [
            "AI Response:\n",
            " What is the budget for paris from May 2015?\n",
            "\n",
            "This is for the most part a discretionary spending budget. Paris is the budget for the entire country and all the services and expenditures included in it is for this purpose only. The public\n",
            "\n",
            "--- Run 3 ---\n",
            "Welcome! Let's plan your trip.\n",
            "What's your budget? (Low/Medium/High): high\n",
            "What are your interests? (Adventure/Relaxation/Culture/Food): adventure\n",
            "Which season are you planning to travel? (Spring/Summer/Fall/Winter): winter\n",
            "Preferences captured: {'budget': 'high', 'interests': 'adventure', 'season': 'winter'}\n",
            "Matching preferences: {'budget': 'high', 'interests': 'adventure', 'season': 'winter'}\n",
            "Matching destinations: [{'name': 'Reykjavik', 'country': 'Iceland', 'tags': ['nature', 'adventure', 'cold'], 'budget_level': 'high', 'ideal_duration': [4, 8], 'best_seasons': ['winter', 'autumn']}]\n",
            "Based on your preferences, we suggest: Reykjavik\n",
            "Here is your itinerary:\n",
            "Day 1: Explore Reykjavik's famous attractions.\n",
            "Day 2: Enjoy local cuisine.\n",
            "Day 3: Relax and shop.\n",
            "Do you have any questions about your trip? (Yes/No): no\n",
            "\n",
            "--- Run 4 ---\n",
            "Welcome! Let's plan your trip.\n",
            "What's your budget? (Low/Medium/High): low\n",
            "What are your interests? (Adventure/Relaxation/Culture/Food): food\n",
            "Which season are you planning to travel? (Spring/Summer/Fall/Winter): spring\n",
            "Preferences captured: {'budget': 'low', 'interests': 'food', 'season': 'spring'}\n",
            "Matching preferences: {'budget': 'low', 'interests': 'food', 'season': 'spring'}\n",
            "Matching destinations: [{'name': 'Tokyo', 'country': 'Japan', 'tags': ['technology', 'food', 'culture'], 'budget_level': 'low', 'ideal_duration': [4, 7], 'best_seasons': ['spring', 'autumn']}, {'name': 'Cape Town', 'country': 'South Africa', 'tags': ['adventure', 'food', 'relaxation'], 'budget_level': 'low', 'ideal_duration': [3, 6], 'best_seasons': ['spring', 'summer']}]\n",
            "Based on your preferences, we suggest: Tokyo\n",
            "Here is your itinerary:\n",
            "Day 1: Explore Tokyo's famous attractions.\n",
            "Day 2: Enjoy local cuisine.\n",
            "Day 3: Relax and shop.\n",
            "Do you have any questions about your trip? (Yes/No): yes\n",
            "Ask your question: where is tokyo\n"
          ]
        },
        {
          "output_type": "stream",
          "name": "stderr",
          "text": [
            "Setting `pad_token_id` to `eos_token_id`:50256 for open-end generation.\n"
          ]
        },
        {
          "output_type": "stream",
          "name": "stdout",
          "text": [
            "AI Response:\n",
            " where is tokyo-warm water-soluble (SOA) water, with more or less the same amount of dissolved inorganic nitrogen. The composition is generally in terms of pH, which is a very easy way to determine how much SO\n"
          ]
        }
      ],
      "source": [
        "import os\n",
        "import json\n",
        "import random\n",
        "from transformers import pipeline\n",
        "from langchain.memory import ConversationBufferMemory\n",
        "from typing import TypedDict\n",
        "from langgraph.graph import StateGraph\n",
        "\n",
        "# Load Hugging Face model (using text-generation pipeline)\n",
        "llm = pipeline(\"text-generation\", model=\"gpt2\")\n",
        "\n",
        "# Define state using TypedDict\n",
        "class TravelPlannerState(TypedDict):\n",
        "    preferences: dict\n",
        "    destination: str\n",
        "    itinerary: str\n",
        "\n",
        "# Load mock destination database\n",
        "def load_destinations(file_path):\n",
        "    try:\n",
        "        with open(file_path, \"r\") as file:\n",
        "            return json.load(file)\n",
        "    except Exception as e:\n",
        "        print(f\"Error loading destinations file: {e}\")\n",
        "        return []\n",
        "\n",
        "destinations_db = load_destinations(\"destinations.json\")  # Adjust the file path if needed\n",
        "\n",
        "# Function to validate input\n",
        "def get_valid_input(prompt, valid_options):\n",
        "    while True:\n",
        "        user_input = input(prompt).strip().lower()\n",
        "        if user_input in valid_options:\n",
        "            return user_input\n",
        "        else:\n",
        "            print(f\"Invalid input! Please choose from {', '.join(valid_options)}.\")\n",
        "\n",
        "# Step 1: Extract user preferences\n",
        "def extract_preferences(state: TravelPlannerState):\n",
        "    print(\"Welcome! Let's plan your trip.\")\n",
        "    budget = get_valid_input(\"What's your budget? (Low/Medium/High): \", [\"low\", \"medium\", \"high\"])\n",
        "    interests = get_valid_input(\"What are your interests? (Adventure/Relaxation/Culture/Food): \",\n",
        "                                [\"adventure\", \"relaxation\", \"culture\", \"food\"])\n",
        "    # climate = get_valid_input(\"Do you prefer warm or cold destinations?: \", [\"warm\", \"cold\"])\n",
        "    season = get_valid_input(\"Which season are you planning to travel? (Spring/Summer/Fall/Winter): \",\n",
        "                             [\"spring\", \"summer\", \"fall\", \"winter\"])\n",
        "\n",
        "    state[\"preferences\"] = {\n",
        "        \"budget\": budget,\n",
        "        \"interests\": interests,\n",
        "        # \"climate\": climate,\n",
        "        \"season\": season\n",
        "    }\n",
        "\n",
        "    print(\"Preferences captured:\", state[\"preferences\"])\n",
        "    return {\"preferences\": state[\"preferences\"]}  # Return updated state\n",
        "\n",
        "# Step 2: Find suitable destinations\n",
        "def find_destinations(state: TravelPlannerState):\n",
        "    preferences = state[\"preferences\"]\n",
        "\n",
        "    # Debug print for preferences\n",
        "    print(\"Matching preferences:\", preferences)\n",
        "\n",
        "    # Filter destinations based on preferences\n",
        "    matching_destinations = [\n",
        "        d for d in destinations_db if\n",
        "        d.get('budget_level') == preferences['budget'] and\n",
        "        preferences['interests'] in d.get('tags', []) and\n",
        "        preferences['season'] in d.get('best_seasons', [])]\n",
        "\n",
        "    # Debug print for matching destinations\n",
        "    print(\"Matching destinations:\", matching_destinations)\n",
        "\n",
        "    if not matching_destinations:\n",
        "        destination = \"No matching destination found. Try adjusting your preferences.\"\n",
        "    else:\n",
        "        destination = random.choice(matching_destinations)['name']\n",
        "\n",
        "    state[\"destination\"] = destination\n",
        "    print(f\"Based on your preferences, we suggest: {state['destination']}\")\n",
        "\n",
        "    return {\"destination\": state[\"destination\"]}  # Return updated state\n",
        "\n",
        "# Step 3: Generate itinerary\n",
        "def create_itinerary(state: TravelPlannerState):\n",
        "    destination = state[\"destination\"]\n",
        "    if \"No matching destination found\" in destination:\n",
        "        itinerary = \"No itinerary available. Please try adjusting your preferences.\"\n",
        "    else:\n",
        "        itinerary = f\"Day 1: Explore {destination}'s famous attractions.\\nDay 2: Enjoy local cuisine.\\nDay 3: Relax and shop.\"\n",
        "\n",
        "    state[\"itinerary\"] = itinerary\n",
        "    print(f\"Here is your itinerary:\\n{itinerary}\")\n",
        "\n",
        "    return {\"itinerary\": state[\"itinerary\"]}  # Return updated state\n",
        "\n",
        "# Step 4: Handle follow-up questions\n",
        "def handle_followup(state: TravelPlannerState):\n",
        "    # Ensure get_valid_input function exists and handles input properly\n",
        "    question = get_valid_input(\"Do you have any questions about your trip? (Yes/No): \", [\"yes\", \"no\"]).lower()\n",
        "\n",
        "    if question == \"yes\":\n",
        "        user_query = input(\"Ask your question: \")\n",
        "\n",
        "        if not user_query.strip():  # Check if input is empty\n",
        "            print(\"You didn't ask a question. Please try again.\")\n",
        "            return {}\n",
        "\n",
        "        # Call Hugging Face's text-generation pipeline for response\n",
        "        response = llm(user_query, num_return_sequences=10)\n",
        "        print(f\"AI Response:\\n {response[0]['generated_text']}\")\n",
        "\n",
        "    return {}  # Return the updated state instead of an empty dictionary\n",
        "\n",
        "# Build the LangGraph workflow\n",
        "graph = StateGraph(TravelPlannerState)\n",
        "graph.add_node(\"extract_preferences\", extract_preferences)\n",
        "graph.add_node(\"find_destinations\", find_destinations)\n",
        "graph.add_node(\"create_itinerary\", create_itinerary)\n",
        "graph.add_node(\"handle_followup\", handle_followup)\n",
        "\n",
        "# Define workflow transitions\n",
        "graph.add_edge(\"extract_preferences\", \"find_destinations\")\n",
        "graph.add_edge(\"find_destinations\", \"create_itinerary\")\n",
        "graph.add_edge(\"create_itinerary\", \"handle_followup\")\n",
        "\n",
        "graph.set_entry_point(\"extract_preferences\")\n",
        "\n",
        "# Initialize state\n",
        "template_state = TravelPlannerState(\n",
        "    preferences={},\n",
        "    destination=\"\",\n",
        "    itinerary=\"\"\n",
        ")\n",
        "\n",
        "\n",
        "# Run the workflow four times\n",
        "for i in range(4):\n",
        "    print(f\"\\n--- Run {i + 1} ---\")\n",
        "    executor = graph.compile()\n",
        "    executor.invoke(template_state)\n"
      ]
    },
    {
      "cell_type": "code",
      "execution_count": null,
      "metadata": {
        "id": "0Gr0-CUe8ckC"
      },
      "outputs": [],
      "source": []
    }
  ],
  "metadata": {
    "colab": {
      "provenance": [],
      "authorship_tag": "ABX9TyPOgIgeRW3VI8YEBzUiYxDo",
      "include_colab_link": true
    },
    "kernelspec": {
      "display_name": "Python 3",
      "name": "python3"
    },
    "language_info": {
      "name": "python"
    }
  },
  "nbformat": 4,
  "nbformat_minor": 0
}